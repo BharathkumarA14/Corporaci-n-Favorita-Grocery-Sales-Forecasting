{
 "cells": [
  {
   "cell_type": "markdown",
   "metadata": {
    "id": "1O_VDV877IkY"
   },
   "source": [
    "### ***Corporación Favorita Grocery Sales Forecasting***"
   ]
  },
  {
   "cell_type": "markdown",
   "metadata": {
    "id": "1f1Q-QaF7OfP"
   },
   "source": [
    "##### In this case study, you will be predicting the unit sales for thousands of items sold at different Favorita stores located in Ecuador."
   ]
  },
  {
   "cell_type": "markdown",
   "metadata": {
    "id": "8QLl7QvDklLb"
   },
   "source": [
    "#### ***Business Problem*** - Corporación Favorita Retailer can basically face two of the following problems:\n",
    "\n",
    "\n",
    "Stock-out - Stockouts generally refer to a product being unavailable for purchase at retail, as opposed to elsewhere in the supply chain. This may result in loss of sales.\n",
    "\n",
    "\n",
    "Overstock - When referring to overstock merchandise in the form of consumer goods in a retail operation, the term refers to goods that have never been purchased by a customer but that are considered excessive stock from shelves and/or warehouses. Loss may be incured if the items are perishible. \n",
    "\n",
    "Accurate and timely sales prediction is essential part of business\n",
    "planning with a direct impact to stock management and profitability. In food sales, the stock includes a large assortment of goods,\n",
    "some require special storage conditions or are quickly perishable."
   ]
  },
  {
   "cell_type": "markdown",
   "metadata": {
    "id": "ppOGCBUtnHIx"
   },
   "source": [
    "#### ***ML Formulating the Problem*** \n",
    "\n",
    "The main focus of machine learning is to provide algorithms that are trained to perform a task i.e. sales prediction in this case study.\n",
    "\n",
    "This is Regression problem. \n",
    "\n",
    "In our case the variable which needs to be predicted i.e. ‘unit sales’ is continuous in nature makes it a regression problem."
   ]
  },
  {
   "cell_type": "markdown",
   "metadata": {
    "id": "pET8_4rrn2-z"
   },
   "source": [
    "#### ***Performance Metric***\n",
    "\n",
    "In my business problem, the business use case is such that under prediction is not acceptable but over prediction is acceptable. \n",
    "\n",
    "The performance metric designed to penalize a model more for under prediction rather than over prediction is ***RMSLE***\n",
    "\n",
    "#### ***RMSLE : Root Mean Squared Log Error***\n",
    "\n",
    "![image.png](data:image/png;base64,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)"
   ]
  },
  {
   "cell_type": "markdown",
   "metadata": {
    "id": "A83sRA8lpQQI"
   },
   "source": [
    "#### ***Why RMSLE***\n",
    "\n",
    "RMSLE incurs a larger penalty for the underestimation of the Actual variable than the Overestimation.\n",
    "\n",
    "Robustness to the effect of the outliers\n",
    "\n",
    "Relative Error"
   ]
  },
  {
   "cell_type": "markdown",
   "metadata": {
    "id": "8KP-qEbBwfLQ"
   },
   "source": [
    "#### ***Baseline Approach***\n",
    "\n",
    "1. Predict item level average sales \n",
    "\n",
    "2. Predict item average sales at each store level"
   ]
  },
  {
   "cell_type": "code",
   "execution_count": 1,
   "metadata": {
    "id": "HuUWK-2iz4P_"
   },
   "outputs": [],
   "source": [
    "import os\n",
    "import numpy as np\n",
    "import pandas as pd\n",
    "import matplotlib.pyplot as plt\n",
    "#import dask.dataframe as dd\n",
    "import seaborn as sns\n",
    "import random\n",
    "import time"
   ]
  },
  {
   "cell_type": "code",
   "execution_count": 2,
   "metadata": {
    "id": "x_x1QnMYg4jX"
   },
   "outputs": [],
   "source": [
    "import tensorflow as tf"
   ]
  },
  {
   "cell_type": "code",
   "execution_count": 3,
   "metadata": {
    "colab": {
     "base_uri": "https://localhost:8080/",
     "height": 35
    },
    "id": "dgCa4fdBhIzJ",
    "outputId": "6f04533e-e344-41e3-93a8-f8a467b22706"
   },
   "outputs": [
    {
     "data": {
      "application/vnd.google.colaboratory.intrinsic+json": {
       "type": "string"
      },
      "text/plain": [
       "'/device:GPU:0'"
      ]
     },
     "execution_count": 3,
     "metadata": {
      "tags": []
     },
     "output_type": "execute_result"
    }
   ],
   "source": [
    "tf.test.gpu_device_name()"
   ]
  },
  {
   "cell_type": "markdown",
   "metadata": {
    "id": "4q-31gzW7bXI"
   },
   "source": [
    "##### Code below shows how to reduce the size of the properties dataset by selecting smaller datatypes."
   ]
  },
  {
   "cell_type": "code",
   "execution_count": 4,
   "metadata": {
    "id": "6sXUVhJc7aHW"
   },
   "outputs": [],
   "source": [
    "#Code Source : https://www.kaggle.com/arjanso/reducing-dataframe-memory-size-by-65\n",
    "def reduce_mem_usage(df):\n",
    "    \"\"\" iterate through all the columns of a dataframe and modify the data type\n",
    "        to reduce memory usage.        \n",
    "    \"\"\"\n",
    "    start_mem = df.memory_usage().sum() / 1024**2\n",
    "    print('Memory usage of dataframe is {:.2f} MB'.format(start_mem))\n",
    "    \n",
    "    for col in df.columns:\n",
    "        col_type = df[col].dtype\n",
    "        \n",
    "        if col_type != object:\n",
    "            c_min = df[col].min()\n",
    "            c_max = df[col].max()\n",
    "            if str(col_type)[:3] == 'int':\n",
    "                if c_min > np.iinfo(np.int8).min and c_max < np.iinfo(np.int8).max:\n",
    "                    df[col] = df[col].astype(np.int8)\n",
    "                elif c_min > np.iinfo(np.int16).min and c_max < np.iinfo(np.int16).max:\n",
    "                    df[col] = df[col].astype(np.int16)\n",
    "                elif c_min > np.iinfo(np.int32).min and c_max < np.iinfo(np.int32).max:\n",
    "                    df[col] = df[col].astype(np.int32)\n",
    "                elif c_min > np.iinfo(np.int64).min and c_max < np.iinfo(np.int64).max:\n",
    "                    df[col] = df[col].astype(np.int64)  \n",
    "            else:\n",
    "                if c_min > np.finfo(np.float16).min and c_max < np.finfo(np.float16).max:\n",
    "                    df[col] = df[col].astype(np.float16)\n",
    "                elif c_min > np.finfo(np.float32).min and c_max < np.finfo(np.float32).max:\n",
    "                    df[col] = df[col].astype(np.float32)\n",
    "                else:\n",
    "                    df[col] = df[col].astype(np.float64)\n",
    "        else:\n",
    "            df[col] = df[col].astype('category')\n",
    "\n",
    "    end_mem = df.memory_usage().sum() / 1024**2\n",
    "    print('Memory usage after optimization is: {:.2f} MB'.format(end_mem))\n",
    "    print('Decreased by {:.1f}%'.format(100 * (start_mem - end_mem) / start_mem))\n",
    "    \n",
    "    return df\n",
    "\n",
    "\n",
    "def import_data(file):\n",
    "    \"\"\"create a dataframe and optimize its memory usage\"\"\"\n",
    "    df = pd.read_csv(file, parse_dates=True, keep_date_col=True)\n",
    "    df = reduce_mem_usage(df)\n",
    "    return df"
   ]
  },
  {
   "cell_type": "code",
   "execution_count": 5,
   "metadata": {
    "colab": {
     "base_uri": "https://localhost:8080/"
    },
    "id": "zPwjA-HJ7hsn",
    "outputId": "5e492250-3d82-4efd-fae9-303e30c46ece"
   },
   "outputs": [
    {
     "name": "stdout",
     "output_type": "stream",
     "text": [
      "--------------------------------------------------------------------------------\n",
      "train\n"
     ]
    },
    {
     "name": "stderr",
     "output_type": "stream",
     "text": [
      "/usr/local/lib/python3.7/dist-packages/IPython/core/interactiveshell.py:2822: DtypeWarning: Columns (5) have mixed types.Specify dtype option on import or set low_memory=False.\n",
      "  if self.run_code(code, result):\n"
     ]
    },
    {
     "name": "stdout",
     "output_type": "stream",
     "text": [
      "Memory usage of dataframe is 5744.80 MB\n",
      "Memory usage after optimization is: 1915.02 MB\n",
      "Decreased by 66.7%\n",
      "--------------------------------------------------------------------------------\n",
      "test\n",
      "Memory usage of dataframe is 106.07 MB\n",
      "Memory usage after optimization is: 38.57 MB\n",
      "Decreased by 63.6%\n",
      "--------------------------------------------------------------------------------\n",
      "Store\n",
      "Memory usage of dataframe is 0.00 MB\n",
      "Memory usage after optimization is: 0.00 MB\n",
      "Decreased by 4.6%\n",
      "--------------------------------------------------------------------------------\n",
      "transaction\n",
      "Memory usage of dataframe is 1.91 MB\n",
      "Memory usage after optimization is: 0.49 MB\n",
      "Decreased by 74.4%\n",
      "--------------------------------------------------------------------------------\n",
      "Oil\n",
      "Memory usage of dataframe is 0.02 MB\n",
      "Memory usage after optimization is: 0.05 MB\n",
      "Decreased by -184.0%\n",
      "--------------------------------------------------------------------------------\n",
      "Items\n",
      "Memory usage of dataframe is 0.13 MB\n",
      "Memory usage after optimization is: 0.03 MB\n",
      "Decreased by 73.8%\n",
      "--------------------------------------------------------------------------------\n",
      "holidays_events\n",
      "Memory usage of dataframe is 0.01 MB\n",
      "Memory usage after optimization is: 0.02 MB\n",
      "Decreased by -57.1%\n"
     ]
    }
   ],
   "source": [
    "print('-' * 80)\n",
    "print('train')\n",
    "train_df = import_data('/content/drive/MyDrive/CaseStudy1/train.csv')\n",
    "\n",
    "print('-' * 80)\n",
    "print('test')\n",
    "test_df = import_data('/content/drive/MyDrive/CaseStudy1/test.csv')\n",
    "\n",
    "print('-' * 80)\n",
    "print('Store')\n",
    "store_df = import_data('/content/drive/MyDrive/CaseStudy1/stores.csv')\n",
    "\n",
    "print('-' * 80)\n",
    "print('transaction')\n",
    "transaction_df = import_data('/content/drive/MyDrive/CaseStudy1/transactions.csv')\n",
    "\n",
    "print('-' * 80)\n",
    "print('Oil')\n",
    "oil_df = import_data('/content/drive/MyDrive/CaseStudy1/oil.csv')\n",
    "\n",
    "print('-' * 80)\n",
    "print('Items')\n",
    "items_df = import_data('/content/drive/MyDrive/CaseStudy1/items.csv')\n",
    "\n",
    "print('-' * 80)\n",
    "print('holidays_events')\n",
    "holidays_events_df = import_data('/content/drive/MyDrive/CaseStudy1/holidays_events.csv')"
   ]
  },
  {
   "cell_type": "code",
   "execution_count": 6,
   "metadata": {
    "colab": {
     "base_uri": "https://localhost:8080/"
    },
    "id": "VVV0RjEUEoZp",
    "outputId": "98e804a5-8184-41b7-e554-8b7316062166"
   },
   "outputs": [
    {
     "name": "stdout",
     "output_type": "stream",
     "text": [
      "Train Shape is : (125497040, 6)\n",
      "Test Shape is : (3370464, 5)\n",
      "Store Shape is : (54, 5)\n",
      "Transaction Shape is : (83488, 3)\n",
      "Oil Shape is : (1218, 2)\n",
      "Items Shape is : (4100, 4)\n",
      "Holiday Shape is : (350, 6)\n"
     ]
    }
   ],
   "source": [
    "print('Train Shape is :', train_df.shape)\n",
    "print('Test Shape is :', test_df.shape)\n",
    "print('Store Shape is :', store_df.shape)\n",
    "print('Transaction Shape is :', transaction_df.shape)\n",
    "print('Oil Shape is :', oil_df.shape)\n",
    "print('Items Shape is :', items_df.shape)\n",
    "print('Holiday Shape is :', holidays_events_df.shape)"
   ]
  },
  {
   "cell_type": "code",
   "execution_count": null,
   "metadata": {
    "colab": {
     "base_uri": "https://localhost:8080/"
    },
    "id": "ndmj5JT6Er3V",
    "outputId": "b80da09d-89e0-4d80-ab24-53ac9f5e7630"
   },
   "outputs": [
    {
     "name": "stdout",
     "output_type": "stream",
     "text": [
      "--------------------------------------------------------------------------------\n",
      "train\n",
      "<class 'pandas.core.frame.DataFrame'>\n",
      "RangeIndex: 125497040 entries, 0 to 125497039\n",
      "Data columns (total 6 columns):\n",
      " #   Column       Dtype   \n",
      "---  ------       -----   \n",
      " 0   id           int32   \n",
      " 1   date         category\n",
      " 2   store_nbr    int8    \n",
      " 3   item_nbr     int32   \n",
      " 4   unit_sales   float32 \n",
      " 5   onpromotion  category\n",
      "dtypes: category(2), float32(1), int32(2), int8(1)\n",
      "memory usage: 1.9 GB\n",
      "None\n",
      "--------------------------------------------------------------------------------\n",
      "test\n",
      "<class 'pandas.core.frame.DataFrame'>\n",
      "RangeIndex: 3370464 entries, 0 to 3370463\n",
      "Data columns (total 5 columns):\n",
      " #   Column       Dtype   \n",
      "---  ------       -----   \n",
      " 0   id           int32   \n",
      " 1   date         category\n",
      " 2   store_nbr    int8    \n",
      " 3   item_nbr     int32   \n",
      " 4   onpromotion  float16 \n",
      "dtypes: category(1), float16(1), int32(2), int8(1)\n",
      "memory usage: 38.6 MB\n",
      "None\n",
      "--------------------------------------------------------------------------------\n",
      "Store\n",
      "<class 'pandas.core.frame.DataFrame'>\n",
      "RangeIndex: 54 entries, 0 to 53\n",
      "Data columns (total 5 columns):\n",
      " #   Column     Non-Null Count  Dtype   \n",
      "---  ------     --------------  -----   \n",
      " 0   store_nbr  54 non-null     int8    \n",
      " 1   city       54 non-null     category\n",
      " 2   state      54 non-null     category\n",
      " 3   type       54 non-null     category\n",
      " 4   cluster    54 non-null     int8    \n",
      "dtypes: category(3), int8(2)\n",
      "memory usage: 2.1 KB\n",
      "None\n",
      "--------------------------------------------------------------------------------\n",
      "transaction\n",
      "<class 'pandas.core.frame.DataFrame'>\n",
      "RangeIndex: 83488 entries, 0 to 83487\n",
      "Data columns (total 3 columns):\n",
      " #   Column        Non-Null Count  Dtype   \n",
      "---  ------        --------------  -----   \n",
      " 0   date          83488 non-null  category\n",
      " 1   store_nbr     83488 non-null  int8    \n",
      " 2   transactions  83488 non-null  int16   \n",
      "dtypes: category(1), int16(1), int8(1)\n",
      "memory usage: 500.9 KB\n",
      "None\n",
      "--------------------------------------------------------------------------------\n",
      "Oil\n",
      "<class 'pandas.core.frame.DataFrame'>\n",
      "RangeIndex: 1218 entries, 0 to 1217\n",
      "Data columns (total 2 columns):\n",
      " #   Column      Non-Null Count  Dtype   \n",
      "---  ------      --------------  -----   \n",
      " 0   date        1218 non-null   category\n",
      " 1   dcoilwtico  1175 non-null   float16 \n",
      "dtypes: category(1), float16(1)\n",
      "memory usage: 54.4 KB\n",
      "None\n",
      "--------------------------------------------------------------------------------\n",
      "Items\n",
      "<class 'pandas.core.frame.DataFrame'>\n",
      "RangeIndex: 4100 entries, 0 to 4099\n",
      "Data columns (total 4 columns):\n",
      " #   Column      Non-Null Count  Dtype   \n",
      "---  ------      --------------  -----   \n",
      " 0   item_nbr    4100 non-null   int32   \n",
      " 1   family      4100 non-null   category\n",
      " 2   class       4100 non-null   int16   \n",
      " 3   perishable  4100 non-null   int8    \n",
      "dtypes: category(1), int16(1), int32(1), int8(1)\n",
      "memory usage: 33.7 KB\n",
      "None\n",
      "--------------------------------------------------------------------------------\n",
      "holidays_events\n",
      "<class 'pandas.core.frame.DataFrame'>\n",
      "RangeIndex: 350 entries, 0 to 349\n",
      "Data columns (total 6 columns):\n",
      " #   Column       Non-Null Count  Dtype   \n",
      "---  ------       --------------  -----   \n",
      " 0   date         350 non-null    category\n",
      " 1   type         350 non-null    category\n",
      " 2   locale       350 non-null    category\n",
      " 3   locale_name  350 non-null    category\n",
      " 4   description  350 non-null    category\n",
      " 5   transferred  350 non-null    float16 \n",
      "dtypes: category(5), float16(1)\n",
      "memory usage: 22.2 KB\n",
      "None\n"
     ]
    }
   ],
   "source": [
    "print('-' * 80)\n",
    "print('train')\n",
    "print(train_df.info())\n",
    "print('-' * 80)\n",
    "print('test')\n",
    "print(test_df.info())\n",
    "print('-' * 80)\n",
    "print('Store')\n",
    "print(store_df.info())\n",
    "print('-' * 80)\n",
    "print('transaction')\n",
    "print(transaction_df.info())\n",
    "print('-' * 80)\n",
    "print('Oil')\n",
    "print(oil_df.info())\n",
    "print('-' * 80)\n",
    "print('Items')\n",
    "print(items_df.info())\n",
    "print('-' * 80)\n",
    "print('holidays_events')\n",
    "print(holidays_events_df.info())"
   ]
  },
  {
   "cell_type": "code",
   "execution_count": null,
   "metadata": {
    "colab": {
     "base_uri": "https://localhost:8080/",
     "height": 105
    },
    "id": "JcuEDi-4Fcjh",
    "outputId": "3e6a85d2-7ba5-4f31-f181-558352c641e7"
   },
   "outputs": [
    {
     "data": {
      "text/html": [
       "<div>\n",
       "<style scoped>\n",
       "    .dataframe tbody tr th:only-of-type {\n",
       "        vertical-align: middle;\n",
       "    }\n",
       "\n",
       "    .dataframe tbody tr th {\n",
       "        vertical-align: top;\n",
       "    }\n",
       "\n",
       "    .dataframe thead th {\n",
       "        text-align: right;\n",
       "    }\n",
       "</style>\n",
       "<table border=\"1\" class=\"dataframe\">\n",
       "  <thead>\n",
       "    <tr style=\"text-align: right;\">\n",
       "      <th></th>\n",
       "      <th>id</th>\n",
       "      <th>date</th>\n",
       "      <th>store_nbr</th>\n",
       "      <th>item_nbr</th>\n",
       "      <th>unit_sales</th>\n",
       "      <th>onpromotion</th>\n",
       "    </tr>\n",
       "  </thead>\n",
       "  <tbody>\n",
       "    <tr>\n",
       "      <th>0</th>\n",
       "      <td>0</td>\n",
       "      <td>2013-01-01</td>\n",
       "      <td>25</td>\n",
       "      <td>103665</td>\n",
       "      <td>7.0</td>\n",
       "      <td>NaN</td>\n",
       "    </tr>\n",
       "    <tr>\n",
       "      <th>1</th>\n",
       "      <td>1</td>\n",
       "      <td>2013-01-01</td>\n",
       "      <td>25</td>\n",
       "      <td>105574</td>\n",
       "      <td>1.0</td>\n",
       "      <td>NaN</td>\n",
       "    </tr>\n",
       "  </tbody>\n",
       "</table>\n",
       "</div>"
      ],
      "text/plain": [
       "   id        date  store_nbr  item_nbr  unit_sales onpromotion\n",
       "0   0  2013-01-01         25    103665         7.0         NaN\n",
       "1   1  2013-01-01         25    105574         1.0         NaN"
      ]
     },
     "execution_count": 9,
     "metadata": {
      "tags": []
     },
     "output_type": "execute_result"
    }
   ],
   "source": [
    "train_df.head(2)"
   ]
  },
  {
   "cell_type": "code",
   "execution_count": null,
   "metadata": {
    "colab": {
     "base_uri": "https://localhost:8080/",
     "height": 105
    },
    "id": "2ydDuyATFis9",
    "outputId": "c47752e6-6e4d-4817-847b-b8808d896f49"
   },
   "outputs": [
    {
     "data": {
      "text/html": [
       "<div>\n",
       "<style scoped>\n",
       "    .dataframe tbody tr th:only-of-type {\n",
       "        vertical-align: middle;\n",
       "    }\n",
       "\n",
       "    .dataframe tbody tr th {\n",
       "        vertical-align: top;\n",
       "    }\n",
       "\n",
       "    .dataframe thead th {\n",
       "        text-align: right;\n",
       "    }\n",
       "</style>\n",
       "<table border=\"1\" class=\"dataframe\">\n",
       "  <thead>\n",
       "    <tr style=\"text-align: right;\">\n",
       "      <th></th>\n",
       "      <th>id</th>\n",
       "      <th>date</th>\n",
       "      <th>store_nbr</th>\n",
       "      <th>item_nbr</th>\n",
       "      <th>onpromotion</th>\n",
       "    </tr>\n",
       "  </thead>\n",
       "  <tbody>\n",
       "    <tr>\n",
       "      <th>0</th>\n",
       "      <td>125497040</td>\n",
       "      <td>2017-08-16</td>\n",
       "      <td>1</td>\n",
       "      <td>96995</td>\n",
       "      <td>0.0</td>\n",
       "    </tr>\n",
       "    <tr>\n",
       "      <th>1</th>\n",
       "      <td>125497041</td>\n",
       "      <td>2017-08-16</td>\n",
       "      <td>1</td>\n",
       "      <td>99197</td>\n",
       "      <td>0.0</td>\n",
       "    </tr>\n",
       "  </tbody>\n",
       "</table>\n",
       "</div>"
      ],
      "text/plain": [
       "          id        date  store_nbr  item_nbr  onpromotion\n",
       "0  125497040  2017-08-16          1     96995          0.0\n",
       "1  125497041  2017-08-16          1     99197          0.0"
      ]
     },
     "execution_count": 25,
     "metadata": {
      "tags": []
     },
     "output_type": "execute_result"
    }
   ],
   "source": [
    "test_df.head(2)"
   ]
  },
  {
   "cell_type": "code",
   "execution_count": null,
   "metadata": {
    "colab": {
     "base_uri": "https://localhost:8080/",
     "height": 105
    },
    "id": "fSDWzV71Flo9",
    "outputId": "d0e20fb9-8884-47ef-bba5-3bd3dfa03bf1"
   },
   "outputs": [
    {
     "data": {
      "text/html": [
       "<div>\n",
       "<style scoped>\n",
       "    .dataframe tbody tr th:only-of-type {\n",
       "        vertical-align: middle;\n",
       "    }\n",
       "\n",
       "    .dataframe tbody tr th {\n",
       "        vertical-align: top;\n",
       "    }\n",
       "\n",
       "    .dataframe thead th {\n",
       "        text-align: right;\n",
       "    }\n",
       "</style>\n",
       "<table border=\"1\" class=\"dataframe\">\n",
       "  <thead>\n",
       "    <tr style=\"text-align: right;\">\n",
       "      <th></th>\n",
       "      <th>store_nbr</th>\n",
       "      <th>city</th>\n",
       "      <th>state</th>\n",
       "      <th>type</th>\n",
       "      <th>cluster</th>\n",
       "    </tr>\n",
       "  </thead>\n",
       "  <tbody>\n",
       "    <tr>\n",
       "      <th>0</th>\n",
       "      <td>1</td>\n",
       "      <td>Quito</td>\n",
       "      <td>Pichincha</td>\n",
       "      <td>D</td>\n",
       "      <td>13</td>\n",
       "    </tr>\n",
       "    <tr>\n",
       "      <th>1</th>\n",
       "      <td>2</td>\n",
       "      <td>Quito</td>\n",
       "      <td>Pichincha</td>\n",
       "      <td>D</td>\n",
       "      <td>13</td>\n",
       "    </tr>\n",
       "  </tbody>\n",
       "</table>\n",
       "</div>"
      ],
      "text/plain": [
       "   store_nbr   city      state type  cluster\n",
       "0          1  Quito  Pichincha    D       13\n",
       "1          2  Quito  Pichincha    D       13"
      ]
     },
     "execution_count": 26,
     "metadata": {
      "tags": []
     },
     "output_type": "execute_result"
    }
   ],
   "source": [
    "store_df.head(2)"
   ]
  },
  {
   "cell_type": "code",
   "execution_count": null,
   "metadata": {
    "colab": {
     "base_uri": "https://localhost:8080/",
     "height": 105
    },
    "id": "lxOO9hMUForh",
    "outputId": "f4da3a52-8835-4ea8-93e0-e4d35e62c5da"
   },
   "outputs": [
    {
     "data": {
      "text/html": [
       "<div>\n",
       "<style scoped>\n",
       "    .dataframe tbody tr th:only-of-type {\n",
       "        vertical-align: middle;\n",
       "    }\n",
       "\n",
       "    .dataframe tbody tr th {\n",
       "        vertical-align: top;\n",
       "    }\n",
       "\n",
       "    .dataframe thead th {\n",
       "        text-align: right;\n",
       "    }\n",
       "</style>\n",
       "<table border=\"1\" class=\"dataframe\">\n",
       "  <thead>\n",
       "    <tr style=\"text-align: right;\">\n",
       "      <th></th>\n",
       "      <th>date</th>\n",
       "      <th>store_nbr</th>\n",
       "      <th>transactions</th>\n",
       "    </tr>\n",
       "  </thead>\n",
       "  <tbody>\n",
       "    <tr>\n",
       "      <th>0</th>\n",
       "      <td>2013-01-01</td>\n",
       "      <td>25</td>\n",
       "      <td>770</td>\n",
       "    </tr>\n",
       "    <tr>\n",
       "      <th>1</th>\n",
       "      <td>2013-01-02</td>\n",
       "      <td>1</td>\n",
       "      <td>2111</td>\n",
       "    </tr>\n",
       "  </tbody>\n",
       "</table>\n",
       "</div>"
      ],
      "text/plain": [
       "         date  store_nbr  transactions\n",
       "0  2013-01-01         25           770\n",
       "1  2013-01-02          1          2111"
      ]
     },
     "execution_count": 27,
     "metadata": {
      "tags": []
     },
     "output_type": "execute_result"
    }
   ],
   "source": [
    "transaction_df.head(2)"
   ]
  },
  {
   "cell_type": "code",
   "execution_count": null,
   "metadata": {
    "colab": {
     "base_uri": "https://localhost:8080/",
     "height": 105
    },
    "id": "j8fTxHcQFrhn",
    "outputId": "4024af20-b57c-4f3a-fd67-9d7c4b751fce"
   },
   "outputs": [
    {
     "data": {
      "text/html": [
       "<div>\n",
       "<style scoped>\n",
       "    .dataframe tbody tr th:only-of-type {\n",
       "        vertical-align: middle;\n",
       "    }\n",
       "\n",
       "    .dataframe tbody tr th {\n",
       "        vertical-align: top;\n",
       "    }\n",
       "\n",
       "    .dataframe thead th {\n",
       "        text-align: right;\n",
       "    }\n",
       "</style>\n",
       "<table border=\"1\" class=\"dataframe\">\n",
       "  <thead>\n",
       "    <tr style=\"text-align: right;\">\n",
       "      <th></th>\n",
       "      <th>date</th>\n",
       "      <th>dcoilwtico</th>\n",
       "    </tr>\n",
       "  </thead>\n",
       "  <tbody>\n",
       "    <tr>\n",
       "      <th>0</th>\n",
       "      <td>2013-01-01</td>\n",
       "      <td>NaN</td>\n",
       "    </tr>\n",
       "    <tr>\n",
       "      <th>1</th>\n",
       "      <td>2013-01-02</td>\n",
       "      <td>93.125</td>\n",
       "    </tr>\n",
       "  </tbody>\n",
       "</table>\n",
       "</div>"
      ],
      "text/plain": [
       "         date  dcoilwtico\n",
       "0  2013-01-01         NaN\n",
       "1  2013-01-02      93.125"
      ]
     },
     "execution_count": 28,
     "metadata": {
      "tags": []
     },
     "output_type": "execute_result"
    }
   ],
   "source": [
    "oil_df.head(2)"
   ]
  },
  {
   "cell_type": "code",
   "execution_count": null,
   "metadata": {
    "colab": {
     "base_uri": "https://localhost:8080/",
     "height": 105
    },
    "id": "qewUx5yAFucs",
    "outputId": "9769c269-fc5d-464d-8419-9a96422d95b0"
   },
   "outputs": [
    {
     "data": {
      "text/html": [
       "<div>\n",
       "<style scoped>\n",
       "    .dataframe tbody tr th:only-of-type {\n",
       "        vertical-align: middle;\n",
       "    }\n",
       "\n",
       "    .dataframe tbody tr th {\n",
       "        vertical-align: top;\n",
       "    }\n",
       "\n",
       "    .dataframe thead th {\n",
       "        text-align: right;\n",
       "    }\n",
       "</style>\n",
       "<table border=\"1\" class=\"dataframe\">\n",
       "  <thead>\n",
       "    <tr style=\"text-align: right;\">\n",
       "      <th></th>\n",
       "      <th>date</th>\n",
       "      <th>type</th>\n",
       "      <th>locale</th>\n",
       "      <th>locale_name</th>\n",
       "      <th>description</th>\n",
       "      <th>transferred</th>\n",
       "    </tr>\n",
       "  </thead>\n",
       "  <tbody>\n",
       "    <tr>\n",
       "      <th>0</th>\n",
       "      <td>2012-03-02</td>\n",
       "      <td>Holiday</td>\n",
       "      <td>Local</td>\n",
       "      <td>Manta</td>\n",
       "      <td>Fundacion de Manta</td>\n",
       "      <td>0.0</td>\n",
       "    </tr>\n",
       "    <tr>\n",
       "      <th>1</th>\n",
       "      <td>2012-04-01</td>\n",
       "      <td>Holiday</td>\n",
       "      <td>Regional</td>\n",
       "      <td>Cotopaxi</td>\n",
       "      <td>Provincializacion de Cotopaxi</td>\n",
       "      <td>0.0</td>\n",
       "    </tr>\n",
       "  </tbody>\n",
       "</table>\n",
       "</div>"
      ],
      "text/plain": [
       "         date     type  ...                    description transferred\n",
       "0  2012-03-02  Holiday  ...             Fundacion de Manta         0.0\n",
       "1  2012-04-01  Holiday  ...  Provincializacion de Cotopaxi         0.0\n",
       "\n",
       "[2 rows x 6 columns]"
      ]
     },
     "execution_count": 29,
     "metadata": {
      "tags": []
     },
     "output_type": "execute_result"
    }
   ],
   "source": [
    "holidays_events_df.head(2)"
   ]
  },
  {
   "cell_type": "code",
   "execution_count": null,
   "metadata": {
    "colab": {
     "base_uri": "https://localhost:8080/",
     "height": 105
    },
    "id": "slsvH7vbF3LX",
    "outputId": "e798f614-815e-4dbb-94a8-b7d38a0a4c71"
   },
   "outputs": [
    {
     "data": {
      "text/html": [
       "<div>\n",
       "<style scoped>\n",
       "    .dataframe tbody tr th:only-of-type {\n",
       "        vertical-align: middle;\n",
       "    }\n",
       "\n",
       "    .dataframe tbody tr th {\n",
       "        vertical-align: top;\n",
       "    }\n",
       "\n",
       "    .dataframe thead th {\n",
       "        text-align: right;\n",
       "    }\n",
       "</style>\n",
       "<table border=\"1\" class=\"dataframe\">\n",
       "  <thead>\n",
       "    <tr style=\"text-align: right;\">\n",
       "      <th></th>\n",
       "      <th>item_nbr</th>\n",
       "      <th>family</th>\n",
       "      <th>class</th>\n",
       "      <th>perishable</th>\n",
       "    </tr>\n",
       "  </thead>\n",
       "  <tbody>\n",
       "    <tr>\n",
       "      <th>0</th>\n",
       "      <td>96995</td>\n",
       "      <td>GROCERY I</td>\n",
       "      <td>1093</td>\n",
       "      <td>0</td>\n",
       "    </tr>\n",
       "    <tr>\n",
       "      <th>1</th>\n",
       "      <td>99197</td>\n",
       "      <td>GROCERY I</td>\n",
       "      <td>1067</td>\n",
       "      <td>0</td>\n",
       "    </tr>\n",
       "  </tbody>\n",
       "</table>\n",
       "</div>"
      ],
      "text/plain": [
       "   item_nbr     family  class  perishable\n",
       "0     96995  GROCERY I   1093           0\n",
       "1     99197  GROCERY I   1067           0"
      ]
     },
     "execution_count": 30,
     "metadata": {
      "tags": []
     },
     "output_type": "execute_result"
    }
   ],
   "source": [
    "items_df.head(2)"
   ]
  },
  {
   "cell_type": "markdown",
   "metadata": {
    "id": "6UtyGN-TM34T"
   },
   "source": [
    "#### Merging all the datasets with Test Data"
   ]
  },
  {
   "cell_type": "code",
   "execution_count": null,
   "metadata": {
    "colab": {
     "base_uri": "https://localhost:8080/",
     "height": 272
    },
    "id": "59sGT4wXM7zG",
    "outputId": "1dd62115-d865-4dea-bbc8-7f14b0cc06c9"
   },
   "outputs": [
    {
     "data": {
      "text/html": [
       "<div>\n",
       "<style scoped>\n",
       "    .dataframe tbody tr th:only-of-type {\n",
       "        vertical-align: middle;\n",
       "    }\n",
       "\n",
       "    .dataframe tbody tr th {\n",
       "        vertical-align: top;\n",
       "    }\n",
       "\n",
       "    .dataframe thead th {\n",
       "        text-align: right;\n",
       "    }\n",
       "</style>\n",
       "<table border=\"1\" class=\"dataframe\">\n",
       "  <thead>\n",
       "    <tr style=\"text-align: right;\">\n",
       "      <th></th>\n",
       "      <th>id</th>\n",
       "      <th>date</th>\n",
       "      <th>store_nbr</th>\n",
       "      <th>item_nbr</th>\n",
       "      <th>onpromotion</th>\n",
       "      <th>city</th>\n",
       "      <th>state</th>\n",
       "      <th>type_x</th>\n",
       "      <th>cluster</th>\n",
       "      <th>dcoilwtico</th>\n",
       "      <th>type_y</th>\n",
       "      <th>locale</th>\n",
       "      <th>locale_name</th>\n",
       "      <th>description</th>\n",
       "      <th>transferred</th>\n",
       "      <th>family</th>\n",
       "      <th>class</th>\n",
       "      <th>perishable</th>\n",
       "      <th>transactions</th>\n",
       "    </tr>\n",
       "  </thead>\n",
       "  <tbody>\n",
       "    <tr>\n",
       "      <th>0</th>\n",
       "      <td>125497040</td>\n",
       "      <td>2017-08-16</td>\n",
       "      <td>1</td>\n",
       "      <td>96995</td>\n",
       "      <td>0.0</td>\n",
       "      <td>Quito</td>\n",
       "      <td>Pichincha</td>\n",
       "      <td>D</td>\n",
       "      <td>13</td>\n",
       "      <td>46.8125</td>\n",
       "      <td>NaN</td>\n",
       "      <td>NaN</td>\n",
       "      <td>NaN</td>\n",
       "      <td>NaN</td>\n",
       "      <td>NaN</td>\n",
       "      <td>GROCERY I</td>\n",
       "      <td>1093</td>\n",
       "      <td>0</td>\n",
       "      <td>NaN</td>\n",
       "    </tr>\n",
       "    <tr>\n",
       "      <th>1</th>\n",
       "      <td>125497041</td>\n",
       "      <td>2017-08-16</td>\n",
       "      <td>1</td>\n",
       "      <td>99197</td>\n",
       "      <td>0.0</td>\n",
       "      <td>Quito</td>\n",
       "      <td>Pichincha</td>\n",
       "      <td>D</td>\n",
       "      <td>13</td>\n",
       "      <td>46.8125</td>\n",
       "      <td>NaN</td>\n",
       "      <td>NaN</td>\n",
       "      <td>NaN</td>\n",
       "      <td>NaN</td>\n",
       "      <td>NaN</td>\n",
       "      <td>GROCERY I</td>\n",
       "      <td>1067</td>\n",
       "      <td>0</td>\n",
       "      <td>NaN</td>\n",
       "    </tr>\n",
       "    <tr>\n",
       "      <th>2</th>\n",
       "      <td>125497042</td>\n",
       "      <td>2017-08-16</td>\n",
       "      <td>1</td>\n",
       "      <td>103501</td>\n",
       "      <td>0.0</td>\n",
       "      <td>Quito</td>\n",
       "      <td>Pichincha</td>\n",
       "      <td>D</td>\n",
       "      <td>13</td>\n",
       "      <td>46.8125</td>\n",
       "      <td>NaN</td>\n",
       "      <td>NaN</td>\n",
       "      <td>NaN</td>\n",
       "      <td>NaN</td>\n",
       "      <td>NaN</td>\n",
       "      <td>CLEANING</td>\n",
       "      <td>3008</td>\n",
       "      <td>0</td>\n",
       "      <td>NaN</td>\n",
       "    </tr>\n",
       "    <tr>\n",
       "      <th>3</th>\n",
       "      <td>125497043</td>\n",
       "      <td>2017-08-16</td>\n",
       "      <td>1</td>\n",
       "      <td>103520</td>\n",
       "      <td>0.0</td>\n",
       "      <td>Quito</td>\n",
       "      <td>Pichincha</td>\n",
       "      <td>D</td>\n",
       "      <td>13</td>\n",
       "      <td>46.8125</td>\n",
       "      <td>NaN</td>\n",
       "      <td>NaN</td>\n",
       "      <td>NaN</td>\n",
       "      <td>NaN</td>\n",
       "      <td>NaN</td>\n",
       "      <td>GROCERY I</td>\n",
       "      <td>1028</td>\n",
       "      <td>0</td>\n",
       "      <td>NaN</td>\n",
       "    </tr>\n",
       "    <tr>\n",
       "      <th>4</th>\n",
       "      <td>125497044</td>\n",
       "      <td>2017-08-16</td>\n",
       "      <td>1</td>\n",
       "      <td>103665</td>\n",
       "      <td>0.0</td>\n",
       "      <td>Quito</td>\n",
       "      <td>Pichincha</td>\n",
       "      <td>D</td>\n",
       "      <td>13</td>\n",
       "      <td>46.8125</td>\n",
       "      <td>NaN</td>\n",
       "      <td>NaN</td>\n",
       "      <td>NaN</td>\n",
       "      <td>NaN</td>\n",
       "      <td>NaN</td>\n",
       "      <td>BREAD/BAKERY</td>\n",
       "      <td>2712</td>\n",
       "      <td>1</td>\n",
       "      <td>NaN</td>\n",
       "    </tr>\n",
       "  </tbody>\n",
       "</table>\n",
       "</div>"
      ],
      "text/plain": [
       "          id        date  store_nbr  ...  class  perishable transactions\n",
       "0  125497040  2017-08-16          1  ...   1093           0          NaN\n",
       "1  125497041  2017-08-16          1  ...   1067           0          NaN\n",
       "2  125497042  2017-08-16          1  ...   3008           0          NaN\n",
       "3  125497043  2017-08-16          1  ...   1028           0          NaN\n",
       "4  125497044  2017-08-16          1  ...   2712           1          NaN\n",
       "\n",
       "[5 rows x 19 columns]"
      ]
     },
     "execution_count": 10,
     "metadata": {
      "tags": []
     },
     "output_type": "execute_result"
    }
   ],
   "source": [
    "test_merge_1 = pd.merge(test_df,store_df,on='store_nbr',how='left')\n",
    "test_merge_2 = pd.merge(test_merge_1,oil_df,on='date',how='left')\n",
    "test_merge_3 = pd.merge(test_merge_2,holidays_events_df,on='date',how='left')\n",
    "test_merge_4 = pd.merge(test_merge_3,items_df,on='item_nbr',how='left')\n",
    "test_final_df = pd.merge(test_merge_4,transaction_df,on=['date','store_nbr'],how='left')\n",
    "test_final_df.head()"
   ]
  },
  {
   "cell_type": "code",
   "execution_count": null,
   "metadata": {
    "id": "IedWelwLNQM2"
   },
   "outputs": [],
   "source": [
    "#Saving the final created test df as csv for further processing\n",
    "test_final_df.to_csv('/content/drive/MyDrive/CaseStudy1/test_final_df_V1.csv',index = False)"
   ]
  },
  {
   "cell_type": "markdown",
   "metadata": {
    "id": "TjsG8mMTg8QT"
   },
   "source": [
    "#### ***EDA on Train Data***"
   ]
  },
  {
   "cell_type": "code",
   "execution_count": null,
   "metadata": {
    "colab": {
     "base_uri": "https://localhost:8080/"
    },
    "id": "zkiVe5W7jO_B",
    "outputId": "d75a5de8-c761-45e4-bffa-f937cc872ce9"
   },
   "outputs": [
    {
     "data": {
      "text/plain": [
       "(125497040, 6)"
      ]
     },
     "execution_count": 8,
     "metadata": {
      "tags": []
     },
     "output_type": "execute_result"
    }
   ],
   "source": [
    "train_df.shape"
   ]
  },
  {
   "cell_type": "code",
   "execution_count": null,
   "metadata": {
    "colab": {
     "base_uri": "https://localhost:8080/",
     "height": 191
    },
    "id": "yllFrMGTjS8I",
    "outputId": "ca13554f-a9f4-46d5-e504-72f43dcde286"
   },
   "outputs": [
    {
     "data": {
      "text/html": [
       "<div>\n",
       "<style scoped>\n",
       "    .dataframe tbody tr th:only-of-type {\n",
       "        vertical-align: middle;\n",
       "    }\n",
       "\n",
       "    .dataframe tbody tr th {\n",
       "        vertical-align: top;\n",
       "    }\n",
       "\n",
       "    .dataframe thead th {\n",
       "        text-align: right;\n",
       "    }\n",
       "</style>\n",
       "<table border=\"1\" class=\"dataframe\">\n",
       "  <thead>\n",
       "    <tr style=\"text-align: right;\">\n",
       "      <th></th>\n",
       "      <th>id</th>\n",
       "      <th>date</th>\n",
       "      <th>store_nbr</th>\n",
       "      <th>item_nbr</th>\n",
       "      <th>unit_sales</th>\n",
       "      <th>onpromotion</th>\n",
       "    </tr>\n",
       "  </thead>\n",
       "  <tbody>\n",
       "    <tr>\n",
       "      <th>0</th>\n",
       "      <td>0</td>\n",
       "      <td>2013-01-01</td>\n",
       "      <td>25</td>\n",
       "      <td>103665</td>\n",
       "      <td>7.0</td>\n",
       "      <td>NaN</td>\n",
       "    </tr>\n",
       "    <tr>\n",
       "      <th>1</th>\n",
       "      <td>1</td>\n",
       "      <td>2013-01-01</td>\n",
       "      <td>25</td>\n",
       "      <td>105574</td>\n",
       "      <td>1.0</td>\n",
       "      <td>NaN</td>\n",
       "    </tr>\n",
       "    <tr>\n",
       "      <th>2</th>\n",
       "      <td>2</td>\n",
       "      <td>2013-01-01</td>\n",
       "      <td>25</td>\n",
       "      <td>105575</td>\n",
       "      <td>2.0</td>\n",
       "      <td>NaN</td>\n",
       "    </tr>\n",
       "    <tr>\n",
       "      <th>3</th>\n",
       "      <td>3</td>\n",
       "      <td>2013-01-01</td>\n",
       "      <td>25</td>\n",
       "      <td>108079</td>\n",
       "      <td>1.0</td>\n",
       "      <td>NaN</td>\n",
       "    </tr>\n",
       "    <tr>\n",
       "      <th>4</th>\n",
       "      <td>4</td>\n",
       "      <td>2013-01-01</td>\n",
       "      <td>25</td>\n",
       "      <td>108701</td>\n",
       "      <td>1.0</td>\n",
       "      <td>NaN</td>\n",
       "    </tr>\n",
       "  </tbody>\n",
       "</table>\n",
       "</div>"
      ],
      "text/plain": [
       "   id        date  store_nbr  item_nbr  unit_sales onpromotion\n",
       "0   0  2013-01-01         25    103665         7.0         NaN\n",
       "1   1  2013-01-01         25    105574         1.0         NaN\n",
       "2   2  2013-01-01         25    105575         2.0         NaN\n",
       "3   3  2013-01-01         25    108079         1.0         NaN\n",
       "4   4  2013-01-01         25    108701         1.0         NaN"
      ]
     },
     "execution_count": 9,
     "metadata": {
      "tags": []
     },
     "output_type": "execute_result"
    }
   ],
   "source": [
    "train_df.head()"
   ]
  },
  {
   "cell_type": "code",
   "execution_count": null,
   "metadata": {
    "colab": {
     "base_uri": "https://localhost:8080/"
    },
    "id": "TKmlTVwThVI7",
    "outputId": "cf2aa9d0-bd4c-4088-8854-15622f168540"
   },
   "outputs": [
    {
     "data": {
      "text/plain": [
       "id                    0\n",
       "date                  0\n",
       "store_nbr             0\n",
       "item_nbr              0\n",
       "unit_sales            0\n",
       "onpromotion    21657651\n",
       "dtype: int64"
      ]
     },
     "execution_count": 14,
     "metadata": {
      "tags": []
     },
     "output_type": "execute_result"
    }
   ],
   "source": [
    "#Counting the no of NULL Values in each column\n",
    "train_df.isnull().sum()"
   ]
  },
  {
   "cell_type": "code",
   "execution_count": null,
   "metadata": {
    "colab": {
     "base_uri": "https://localhost:8080/"
    },
    "id": "fRL90FwUh_Cb",
    "outputId": "a9848b3d-727b-472b-98f3-e08e822420b1"
   },
   "outputs": [
    {
     "name": "stdout",
     "output_type": "stream",
     "text": [
      "id              0.000000\n",
      "date            0.000000\n",
      "store_nbr       0.000000\n",
      "item_nbr        0.000000\n",
      "unit_sales      0.000000\n",
      "onpromotion    17.257499\n",
      "dtype: float64\n"
     ]
    }
   ],
   "source": [
    "Missing_Value_percentage = train_df.isnull().sum() * 100 / len(train_df)\n",
    "print(Missing_Value_percentage)"
   ]
  },
  {
   "cell_type": "markdown",
   "metadata": {
    "id": "5soNeO50uYVg"
   },
   "source": [
    "###### Adding Year, Month & Day of the week as additional Features"
   ]
  },
  {
   "cell_type": "code",
   "execution_count": 7,
   "metadata": {
    "id": "7DEqT0pADZmJ"
   },
   "outputs": [],
   "source": [
    "train_df['date'] = pd.to_datetime(train_df['date'])\n"
   ]
  },
  {
   "cell_type": "code",
   "execution_count": 8,
   "metadata": {
    "id": "zeB0pHhI01J_"
   },
   "outputs": [],
   "source": [
    "train_df['year'] = np.uint16(train_df['date'].dt.year)\n"
   ]
  },
  {
   "cell_type": "code",
   "execution_count": 10,
   "metadata": {
    "id": "p96MqVA708yD"
   },
   "outputs": [],
   "source": [
    "train_df['month'] = np.uint16(train_df['date'].dt.month)\n"
   ]
  },
  {
   "cell_type": "code",
   "execution_count": 11,
   "metadata": {
    "id": "95gWsIzc1B1u"
   },
   "outputs": [],
   "source": [
    "train_df['day_of_week'] = np.uint8(train_df['date'].dt.dayofweek)"
   ]
  },
  {
   "cell_type": "code",
   "execution_count": 12,
   "metadata": {
    "colab": {
     "base_uri": "https://localhost:8080/",
     "height": 191
    },
    "id": "Pt_JsCGtk4dQ",
    "outputId": "2c1b7be1-dab3-49cf-99e9-3e9aa346f405"
   },
   "outputs": [
    {
     "data": {
      "text/html": [
       "<div>\n",
       "<style scoped>\n",
       "    .dataframe tbody tr th:only-of-type {\n",
       "        vertical-align: middle;\n",
       "    }\n",
       "\n",
       "    .dataframe tbody tr th {\n",
       "        vertical-align: top;\n",
       "    }\n",
       "\n",
       "    .dataframe thead th {\n",
       "        text-align: right;\n",
       "    }\n",
       "</style>\n",
       "<table border=\"1\" class=\"dataframe\">\n",
       "  <thead>\n",
       "    <tr style=\"text-align: right;\">\n",
       "      <th></th>\n",
       "      <th>id</th>\n",
       "      <th>date</th>\n",
       "      <th>store_nbr</th>\n",
       "      <th>item_nbr</th>\n",
       "      <th>unit_sales</th>\n",
       "      <th>onpromotion</th>\n",
       "      <th>year</th>\n",
       "      <th>month</th>\n",
       "      <th>day_of_week</th>\n",
       "    </tr>\n",
       "  </thead>\n",
       "  <tbody>\n",
       "    <tr>\n",
       "      <th>0</th>\n",
       "      <td>0</td>\n",
       "      <td>2013-01-01</td>\n",
       "      <td>25</td>\n",
       "      <td>103665</td>\n",
       "      <td>7.0</td>\n",
       "      <td>NaN</td>\n",
       "      <td>2013</td>\n",
       "      <td>1</td>\n",
       "      <td>1</td>\n",
       "    </tr>\n",
       "    <tr>\n",
       "      <th>1</th>\n",
       "      <td>1</td>\n",
       "      <td>2013-01-01</td>\n",
       "      <td>25</td>\n",
       "      <td>105574</td>\n",
       "      <td>1.0</td>\n",
       "      <td>NaN</td>\n",
       "      <td>2013</td>\n",
       "      <td>1</td>\n",
       "      <td>1</td>\n",
       "    </tr>\n",
       "    <tr>\n",
       "      <th>2</th>\n",
       "      <td>2</td>\n",
       "      <td>2013-01-01</td>\n",
       "      <td>25</td>\n",
       "      <td>105575</td>\n",
       "      <td>2.0</td>\n",
       "      <td>NaN</td>\n",
       "      <td>2013</td>\n",
       "      <td>1</td>\n",
       "      <td>1</td>\n",
       "    </tr>\n",
       "    <tr>\n",
       "      <th>3</th>\n",
       "      <td>3</td>\n",
       "      <td>2013-01-01</td>\n",
       "      <td>25</td>\n",
       "      <td>108079</td>\n",
       "      <td>1.0</td>\n",
       "      <td>NaN</td>\n",
       "      <td>2013</td>\n",
       "      <td>1</td>\n",
       "      <td>1</td>\n",
       "    </tr>\n",
       "    <tr>\n",
       "      <th>4</th>\n",
       "      <td>4</td>\n",
       "      <td>2013-01-01</td>\n",
       "      <td>25</td>\n",
       "      <td>108701</td>\n",
       "      <td>1.0</td>\n",
       "      <td>NaN</td>\n",
       "      <td>2013</td>\n",
       "      <td>1</td>\n",
       "      <td>1</td>\n",
       "    </tr>\n",
       "  </tbody>\n",
       "</table>\n",
       "</div>"
      ],
      "text/plain": [
       "   id       date  store_nbr  item_nbr  ...  onpromotion  year  month  day_of_week\n",
       "0   0 2013-01-01         25    103665  ...          NaN  2013      1            1\n",
       "1   1 2013-01-01         25    105574  ...          NaN  2013      1            1\n",
       "2   2 2013-01-01         25    105575  ...          NaN  2013      1            1\n",
       "3   3 2013-01-01         25    108079  ...          NaN  2013      1            1\n",
       "4   4 2013-01-01         25    108701  ...          NaN  2013      1            1\n",
       "\n",
       "[5 rows x 9 columns]"
      ]
     },
     "execution_count": 12,
     "metadata": {
      "tags": []
     },
     "output_type": "execute_result"
    }
   ],
   "source": [
    "train_df.head()"
   ]
  },
  {
   "cell_type": "code",
   "execution_count": null,
   "metadata": {
    "id": "GyJ3w_f0p8yT"
   },
   "outputs": [],
   "source": [
    "sns.set_theme(style=\"darkgrid\")"
   ]
  },
  {
   "cell_type": "code",
   "execution_count": null,
   "metadata": {
    "colab": {
     "base_uri": "https://localhost:8080/",
     "height": 355
    },
    "id": "TAsMcKQhnr92",
    "outputId": "0d9e5f1e-c1c2-4f8c-db83-52711ac9ebdb"
   },
   "outputs": [
    {
     "data": {
      "image/png": "[encoded data removed]",
      "text/plain": [
       "<Figure size 1080x360 with 1 Axes>"
      ]
     },
     "metadata": {
      "tags": []
     },
     "output_type": "display_data"
    }
   ],
   "source": [
    "plt.figure(figsize=(15,5))\n",
    "ax = sns.boxplot(x=train_df[\"unit_sales\"])\n",
    "plt.title('Box Plot of Unit Sales')\n",
    "plt.show()"
   ]
  },
  {
   "cell_type": "code",
   "execution_count": null,
   "metadata": {
    "colab": {
     "base_uri": "https://localhost:8080/",
     "height": 355
    },
    "id": "HyDh8ILz0VgK",
    "outputId": "db8ec725-4514-4888-849b-8403a4e36225"
   },
   "outputs": [
    {
     "data": {
      "image/png": "[encoded data removed]",
      "text/plain": [
       "<Figure size 1080x360 with 1 Axes>"
      ]
     },
     "metadata": {
      "tags": []
     },
     "output_type": "display_data"
    }
   ],
   "source": [
    "#Code Ref : https://stackoverflow.com/questions/39922986/pandas-group-by-and-sum\n",
    "plt.figure(figsize=(15,5))\n",
    "yearly_unit_sales = train_df.groupby(['year'], as_index= False).agg({'unit_sales':'sum'})\n",
    "sns.barplot(data=yearly_unit_sales, x=yearly_unit_sales.year, y=yearly_unit_sales.unit_sales)\n",
    "plt.title('Yearly Sales')\n",
    "plt.xlabel('Year')\n",
    "plt.ylabel('Sales')\n",
    "#plt.xticks(rotation = 'vertical')\n",
    "plt.show()"
   ]
  },
  {
   "cell_type": "code",
   "execution_count": null,
   "metadata": {
    "colab": {
     "base_uri": "https://localhost:8080/",
     "height": 350
    },
    "id": "ekPsv3w1rI4W",
    "outputId": "c3e53906-ea7b-4b4d-c1fc-ef87f2df8471"
   },
   "outputs": [
    {
     "data": {
      "image/png": "[encoded data removed]",
      "text/plain": [
       "<Figure size 1080x360 with 1 Axes>"
      ]
     },
     "metadata": {
      "needs_background": "light",
      "tags": []
     },
     "output_type": "display_data"
    }
   ],
   "source": [
    "plt.figure(figsize=(15,5))\n",
    "monthly_unit_sales = train_df.groupby(['month'], as_index= False).agg({'unit_sales':'sum'})\n",
    "sns.barplot(data=monthly_unit_sales, x=monthly_unit_sales.month, y=monthly_unit_sales.unit_sales)\n",
    "plt.title('Monthly Sales')\n",
    "plt.xlabel('Month')\n",
    "plt.ylabel('Sales')\n",
    "#plt.xticks(rotation = 'vertical')\n",
    "plt.show()"
   ]
  },
  {
   "cell_type": "code",
   "execution_count": 13,
   "metadata": {
    "colab": {
     "base_uri": "https://localhost:8080/",
     "height": 350
    },
    "id": "KXLKEPNxvlxc",
    "outputId": "8488de30-780e-4f91-80fc-c47711cc61c9"
   },
   "outputs": [
    {
     "data": {
      "image/png": "[encoded data removed]",
      "text/plain": [
       "<Figure size 1080x360 with 1 Axes>"
      ]
     },
     "metadata": {
      "needs_background": "light",
      "tags": []
     },
     "output_type": "display_data"
    }
   ],
   "source": [
    "plt.figure(figsize=(15,5))\n",
    "day_of_week_unit_sales = train_df.groupby(['day_of_week'], as_index= False).agg({'unit_sales':'sum'})\n",
    "sns.barplot(data=day_of_week_unit_sales, x=day_of_week_unit_sales.day_of_week, y=day_of_week_unit_sales.unit_sales)\n",
    "plt.title('Day of week Sales')\n",
    "plt.xlabel('Day of week')\n",
    "plt.ylabel('Sales')\n",
    "#plt.xticks(rotation = 'vertical')\n",
    "plt.show()"
   ]
  },
  {
   "cell_type": "code",
   "execution_count": 8,
   "metadata": {
    "colab": {
     "base_uri": "https://localhost:8080/",
     "height": 405
    },
    "id": "exM0rS2V-Ve_",
    "outputId": "870d8c3c-43e2-4f51-91ec-d0cc268dc2e9"
   },
   "outputs": [
    {
     "name": "stderr",
     "output_type": "stream",
     "text": [
      "/usr/local/lib/python3.7/dist-packages/seaborn/_decorators.py:43: FutureWarning: Pass the following variable as a keyword arg: x. From version 0.12, the only valid positional argument will be `data`, and passing other arguments without an explicit keyword will result in an error or misinterpretation.\n",
      "  FutureWarning\n"
     ]
    },
    {
     "data": {
      "image/png": "[encoded data removed]",
      "text/plain": [
       "<Figure size 1080x360 with 1 Axes>"
      ]
     },
     "metadata": {
      "needs_background": "light",
      "tags": []
     },
     "output_type": "display_data"
    }
   ],
   "source": [
    "  plt.figure(figsize=(15,5))\n",
    "  sns.countplot(train_df['store_nbr'])\n",
    "  plt.title('Count of Store Numbers')\n",
    "  plt.xticks(rotation = 'vertical')\n",
    "  plt.show()"
   ]
  },
  {
   "cell_type": "code",
   "execution_count": null,
   "metadata": {
    "colab": {
     "base_uri": "https://localhost:8080/",
     "height": 355
    },
    "id": "lRnJqM2VO_DG",
    "outputId": "5a65b16a-08ff-4659-f9c7-ed0d28fb076f"
   },
   "outputs": [
    {
     "data": {
      "image/png": "[encoded data removed]",
      "text/plain": [
       "<Figure size 1080x360 with 1 Axes>"
      ]
     },
     "metadata": {
      "tags": []
     },
     "output_type": "display_data"
    }
   ],
   "source": [
    "plt.figure(figsize=(15,5))\n",
    "store_nbr_unit_sales = train_df.groupby(['store_nbr'], as_index= False).agg({'unit_sales':'sum'})\n",
    "sns.barplot(data=store_nbr_unit_sales, x=store_nbr_unit_sales.store_nbr, y=store_nbr_unit_sales.unit_sales)\n",
    "plt.title('Store wise Sales')\n",
    "plt.xlabel('Store Number')\n",
    "plt.ylabel('Sales')\n",
    "#plt.xticks(rotation = 'vertical')\n",
    "plt.show()"
   ]
  },
  {
   "cell_type": "code",
   "execution_count": 14,
   "metadata": {
    "id": "HgJcBNesSs4O"
   },
   "outputs": [],
   "source": [
    "df = train_df[train_df['onpromotion'].notna()]"
   ]
  },
  {
   "cell_type": "code",
   "execution_count": 15,
   "metadata": {
    "colab": {
     "base_uri": "https://localhost:8080/"
    },
    "id": "HCwmSHVe1m43",
    "outputId": "22817a7d-0a06-4884-8996-ab58fa7c42e6"
   },
   "outputs": [
    {
     "data": {
      "text/plain": [
       "(103839389, 9)"
      ]
     },
     "execution_count": 15,
     "metadata": {
      "tags": []
     },
     "output_type": "execute_result"
    }
   ],
   "source": [
    "df.shape"
   ]
  },
  {
   "cell_type": "code",
   "execution_count": 24,
   "metadata": {
    "colab": {
     "base_uri": "https://localhost:8080/"
    },
    "id": "6HSYh2ft2xLr",
    "outputId": "dd4cab19-2411-4bdc-ec34-e977609e4665"
   },
   "outputs": [
    {
     "name": "stdout",
     "output_type": "stream",
     "text": [
      "<class 'pandas.core.frame.DataFrame'>\n",
      "Int64Index: 103839389 entries, 21657651 to 125497039\n",
      "Data columns (total 9 columns):\n",
      " #   Column       Dtype   \n",
      "---  ------       -----   \n",
      " 0   id           int32   \n",
      " 1   date         category\n",
      " 2   store_nbr    int8    \n",
      " 3   item_nbr     int32   \n",
      " 4   unit_sales   float32 \n",
      " 5   onpromotion  int64   \n",
      " 6   year         uint16  \n",
      " 7   month        uint16  \n",
      " 8   day_of_week  uint8   \n",
      "dtypes: category(1), float32(1), int32(2), int64(1), int8(1), uint16(2), uint8(1)\n",
      "memory usage: 3.5 GB\n"
     ]
    }
   ],
   "source": [
    "df.info()"
   ]
  },
  {
   "cell_type": "code",
   "execution_count": 23,
   "metadata": {
    "colab": {
     "base_uri": "https://localhost:8080/"
    },
    "id": "Y5NJ7jVR2LfF",
    "outputId": "db8e9c81-bec8-4810-ca38-677d015ad313"
   },
   "outputs": [
    {
     "name": "stderr",
     "output_type": "stream",
     "text": [
      "/usr/local/lib/python3.7/dist-packages/ipykernel_launcher.py:1: SettingWithCopyWarning: \n",
      "A value is trying to be set on a copy of a slice from a DataFrame.\n",
      "Try using .loc[row_indexer,col_indexer] = value instead\n",
      "\n",
      "See the caveats in the documentation: https://pandas.pydata.org/pandas-docs/stable/user_guide/indexing.html#returning-a-view-versus-a-copy\n",
      "  \"\"\"Entry point for launching an IPython kernel.\n"
     ]
    }
   ],
   "source": [
    "df['onpromotion'] = df['onpromotion'].astype(int)"
   ]
  },
  {
   "cell_type": "code",
   "execution_count": 25,
   "metadata": {
    "colab": {
     "base_uri": "https://localhost:8080/",
     "height": 350
    },
    "id": "UKa8fgpSJhdi",
    "outputId": "0643834a-4930-4f6b-c80a-e3d7a4cee385"
   },
   "outputs": [
    {
     "data": {
      "image/png": "[encoded data removed]",
      "text/plain": [
       "<Figure size 1080x360 with 1 Axes>"
      ]
     },
     "metadata": {
      "needs_background": "light",
      "tags": []
     },
     "output_type": "display_data"
    }
   ],
   "source": [
    "plt.figure(figsize=(15,5))\n",
    "onpromotion_unit_sales = df.groupby(['onpromotion'], as_index= False).agg({'unit_sales':'sum'})\n",
    "sns.barplot(data=onpromotion_unit_sales, x=onpromotion_unit_sales.onpromotion, y=onpromotion_unit_sales.unit_sales)\n",
    "plt.title('Promotion Sales')\n",
    "plt.xlabel('Promotion Status')\n",
    "plt.ylabel('Sales')\n",
    "#plt.xticks(rotation = 'vertical')\n",
    "plt.show()"
   ]
  },
  {
   "cell_type": "markdown",
   "metadata": {
    "id": "ec7HKi8cusW3"
   },
   "source": [
    "### ***Observations from Train Dataset***\n",
    "\n",
    "1.  17% of onpromotion values are missing\n",
    "\n",
    "2. Unit Sales has outliers as shown in box plot \n",
    "\n",
    "3. 2016 has the highest unit sales and 2017 is the lowest\n",
    "\n",
    "4. 2017 has the lowest sales as data is avaliable until August\n",
    "\n",
    "5. July & December has the highest unit sales compared to other months \n",
    "\n",
    "6. Saturday and Sunday has highest unit sales compared to other days\n",
    "\n",
    "7. Non Promotion sales are high compared to on-promotion sales\n",
    "\n",
    "8. Store Number 44 has the highest sales and also has highest number of stores "
   ]
  },
  {
   "cell_type": "markdown",
   "metadata": {
    "id": "EQ3jZu5-HtAt"
   },
   "source": [
    "As we have 125M datapoints & 2016 has the highest sales filtering the data for merging with other datasets and further analysis"
   ]
  },
  {
   "cell_type": "code",
   "execution_count": 30,
   "metadata": {
    "colab": {
     "base_uri": "https://localhost:8080/"
    },
    "id": "x1wbnRThImNb",
    "outputId": "c03e2bed-8631-4a8d-d5b8-39f7a11c45c8"
   },
   "outputs": [
    {
     "data": {
      "text/plain": [
       "2016    35229871\n",
       "2015    27864644\n",
       "2017    23808261\n",
       "2014    22271602\n",
       "2013    16322662\n",
       "Name: year, dtype: int64"
      ]
     },
     "execution_count": 30,
     "metadata": {
      "tags": []
     },
     "output_type": "execute_result"
    }
   ],
   "source": [
    "train_df['year'].value_counts()"
   ]
  },
  {
   "cell_type": "markdown",
   "metadata": {
    "id": "HU0_45zmJ0-X"
   },
   "source": [
    "##### Merging 2016 data with transaction, items & stores"
   ]
  },
  {
   "cell_type": "code",
   "execution_count": 28,
   "metadata": {
    "id": "YmbHbRBdHsS9"
   },
   "outputs": [],
   "source": [
    "train_2016 = train_df[train_df['year']==2016]"
   ]
  },
  {
   "cell_type": "code",
   "execution_count": 31,
   "metadata": {
    "id": "5VdDxbjUJPvc"
   },
   "outputs": [],
   "source": [
    "train_2016 = pd.merge(train_2016,transaction_df,on=['date','store_nbr'],how='left')"
   ]
  },
  {
   "cell_type": "code",
   "execution_count": 32,
   "metadata": {
    "id": "YLtmxxTVJj6a"
   },
   "outputs": [],
   "source": [
    "train_2016 = pd.merge(train_2016,items_df,on='item_nbr',how='left')"
   ]
  },
  {
   "cell_type": "code",
   "execution_count": 33,
   "metadata": {
    "id": "44boYBc5Jr1A"
   },
   "outputs": [],
   "source": [
    "train_2016 = pd.merge(train_2016,store_df,on='store_nbr',how='left')"
   ]
  },
  {
   "cell_type": "markdown",
   "metadata": {
    "id": "LkwmzAm_G63U"
   },
   "source": [
    "#### ***EDA on Merged Data***"
   ]
  },
  {
   "cell_type": "code",
   "execution_count": 34,
   "metadata": {
    "colab": {
     "base_uri": "https://localhost:8080/"
    },
    "id": "LnLgXa7fHAGT",
    "outputId": "48049859-928f-4804-a4f0-96a33ddd74cb"
   },
   "outputs": [
    {
     "data": {
      "text/plain": [
       "(35229871, 17)"
      ]
     },
     "execution_count": 34,
     "metadata": {
      "tags": []
     },
     "output_type": "execute_result"
    }
   ],
   "source": [
    "train_merge_3.shape"
   ]
  },
  {
   "cell_type": "code",
   "execution_count": 35,
   "metadata": {
    "colab": {
     "base_uri": "https://localhost:8080/",
     "height": 191
    },
    "id": "EXPC0KunHEC2",
    "outputId": "520a9b88-112f-4d3c-d2c9-04b9d7d76e2b"
   },
   "outputs": [
    {
     "data": {
      "text/html": [
       "<div>\n",
       "<style scoped>\n",
       "    .dataframe tbody tr th:only-of-type {\n",
       "        vertical-align: middle;\n",
       "    }\n",
       "\n",
       "    .dataframe tbody tr th {\n",
       "        vertical-align: top;\n",
       "    }\n",
       "\n",
       "    .dataframe thead th {\n",
       "        text-align: right;\n",
       "    }\n",
       "</style>\n",
       "<table border=\"1\" class=\"dataframe\">\n",
       "  <thead>\n",
       "    <tr style=\"text-align: right;\">\n",
       "      <th></th>\n",
       "      <th>id</th>\n",
       "      <th>date</th>\n",
       "      <th>store_nbr</th>\n",
       "      <th>item_nbr</th>\n",
       "      <th>unit_sales</th>\n",
       "      <th>onpromotion</th>\n",
       "      <th>year</th>\n",
       "      <th>month</th>\n",
       "      <th>day_of_week</th>\n",
       "      <th>transactions</th>\n",
       "      <th>family</th>\n",
       "      <th>class</th>\n",
       "      <th>perishable</th>\n",
       "      <th>city</th>\n",
       "      <th>state</th>\n",
       "      <th>type</th>\n",
       "      <th>cluster</th>\n",
       "    </tr>\n",
       "  </thead>\n",
       "  <tbody>\n",
       "    <tr>\n",
       "      <th>0</th>\n",
       "      <td>66458908</td>\n",
       "      <td>2016-01-01</td>\n",
       "      <td>25</td>\n",
       "      <td>105574</td>\n",
       "      <td>12.0</td>\n",
       "      <td>False</td>\n",
       "      <td>2016</td>\n",
       "      <td>1</td>\n",
       "      <td>4</td>\n",
       "      <td>NaN</td>\n",
       "      <td>GROCERY I</td>\n",
       "      <td>1045</td>\n",
       "      <td>0</td>\n",
       "      <td>Salinas</td>\n",
       "      <td>Santa Elena</td>\n",
       "      <td>D</td>\n",
       "      <td>1</td>\n",
       "    </tr>\n",
       "    <tr>\n",
       "      <th>1</th>\n",
       "      <td>66458909</td>\n",
       "      <td>2016-01-01</td>\n",
       "      <td>25</td>\n",
       "      <td>105575</td>\n",
       "      <td>9.0</td>\n",
       "      <td>False</td>\n",
       "      <td>2016</td>\n",
       "      <td>1</td>\n",
       "      <td>4</td>\n",
       "      <td>NaN</td>\n",
       "      <td>GROCERY I</td>\n",
       "      <td>1045</td>\n",
       "      <td>0</td>\n",
       "      <td>Salinas</td>\n",
       "      <td>Santa Elena</td>\n",
       "      <td>D</td>\n",
       "      <td>1</td>\n",
       "    </tr>\n",
       "    <tr>\n",
       "      <th>2</th>\n",
       "      <td>66458910</td>\n",
       "      <td>2016-01-01</td>\n",
       "      <td>25</td>\n",
       "      <td>105857</td>\n",
       "      <td>3.0</td>\n",
       "      <td>False</td>\n",
       "      <td>2016</td>\n",
       "      <td>1</td>\n",
       "      <td>4</td>\n",
       "      <td>NaN</td>\n",
       "      <td>GROCERY I</td>\n",
       "      <td>1092</td>\n",
       "      <td>0</td>\n",
       "      <td>Salinas</td>\n",
       "      <td>Santa Elena</td>\n",
       "      <td>D</td>\n",
       "      <td>1</td>\n",
       "    </tr>\n",
       "    <tr>\n",
       "      <th>3</th>\n",
       "      <td>66458911</td>\n",
       "      <td>2016-01-01</td>\n",
       "      <td>25</td>\n",
       "      <td>108634</td>\n",
       "      <td>3.0</td>\n",
       "      <td>False</td>\n",
       "      <td>2016</td>\n",
       "      <td>1</td>\n",
       "      <td>4</td>\n",
       "      <td>NaN</td>\n",
       "      <td>GROCERY I</td>\n",
       "      <td>1075</td>\n",
       "      <td>0</td>\n",
       "      <td>Salinas</td>\n",
       "      <td>Santa Elena</td>\n",
       "      <td>D</td>\n",
       "      <td>1</td>\n",
       "    </tr>\n",
       "    <tr>\n",
       "      <th>4</th>\n",
       "      <td>66458912</td>\n",
       "      <td>2016-01-01</td>\n",
       "      <td>25</td>\n",
       "      <td>108701</td>\n",
       "      <td>2.0</td>\n",
       "      <td>True</td>\n",
       "      <td>2016</td>\n",
       "      <td>1</td>\n",
       "      <td>4</td>\n",
       "      <td>NaN</td>\n",
       "      <td>DELI</td>\n",
       "      <td>2644</td>\n",
       "      <td>1</td>\n",
       "      <td>Salinas</td>\n",
       "      <td>Santa Elena</td>\n",
       "      <td>D</td>\n",
       "      <td>1</td>\n",
       "    </tr>\n",
       "  </tbody>\n",
       "</table>\n",
       "</div>"
      ],
      "text/plain": [
       "         id       date  store_nbr  item_nbr  ...     city        state  type  cluster\n",
       "0  66458908 2016-01-01         25    105574  ...  Salinas  Santa Elena     D        1\n",
       "1  66458909 2016-01-01         25    105575  ...  Salinas  Santa Elena     D        1\n",
       "2  66458910 2016-01-01         25    105857  ...  Salinas  Santa Elena     D        1\n",
       "3  66458911 2016-01-01         25    108634  ...  Salinas  Santa Elena     D        1\n",
       "4  66458912 2016-01-01         25    108701  ...  Salinas  Santa Elena     D        1\n",
       "\n",
       "[5 rows x 17 columns]"
      ]
     },
     "execution_count": 35,
     "metadata": {
      "tags": []
     },
     "output_type": "execute_result"
    }
   ],
   "source": [
    "train_merge_3.head()"
   ]
  },
  {
   "cell_type": "code",
   "execution_count": 36,
   "metadata": {
    "colab": {
     "base_uri": "https://localhost:8080/"
    },
    "id": "jV48jy-MHHik",
    "outputId": "a073cdbc-d5c5-4ec6-e359-52706035b17d"
   },
   "outputs": [
    {
     "data": {
      "text/plain": [
       "id                     0\n",
       "date                   0\n",
       "store_nbr              0\n",
       "item_nbr               0\n",
       "unit_sales             0\n",
       "onpromotion            0\n",
       "year                   0\n",
       "month                  0\n",
       "day_of_week            0\n",
       "transactions    35229871\n",
       "family                 0\n",
       "class                  0\n",
       "perishable             0\n",
       "city                   0\n",
       "state                  0\n",
       "type                   0\n",
       "cluster                0\n",
       "dtype: int64"
      ]
     },
     "execution_count": 36,
     "metadata": {
      "tags": []
     },
     "output_type": "execute_result"
    }
   ],
   "source": [
    "train_merge_3.isnull().sum()"
   ]
  },
  {
   "cell_type": "code",
   "execution_count": 37,
   "metadata": {
    "id": "zNde7tkWKX6B"
   },
   "outputs": [],
   "source": [
    "#Dropping the transactions column as all the values were Null\n",
    "train_merge_3.drop(['transactions'], axis=1, inplace=True)"
   ]
  },
  {
   "cell_type": "code",
   "execution_count": 38,
   "metadata": {
    "colab": {
     "base_uri": "https://localhost:8080/"
    },
    "id": "hyVq6d82KzSi",
    "outputId": "e50ba83e-f23c-45f2-b9a4-7da543831893"
   },
   "outputs": [
    {
     "name": "stdout",
     "output_type": "stream",
     "text": [
      "<class 'pandas.core.frame.DataFrame'>\n",
      "Int64Index: 35229871 entries, 0 to 35229870\n",
      "Data columns (total 16 columns):\n",
      " #   Column       Dtype         \n",
      "---  ------       -----         \n",
      " 0   id           int32         \n",
      " 1   date         datetime64[ns]\n",
      " 2   store_nbr    int8          \n",
      " 3   item_nbr     int32         \n",
      " 4   unit_sales   float32       \n",
      " 5   onpromotion  category      \n",
      " 6   year         uint16        \n",
      " 7   month        uint16        \n",
      " 8   day_of_week  uint8         \n",
      " 9   family       category      \n",
      " 10  class        int16         \n",
      " 11  perishable   int8          \n",
      " 12  city         category      \n",
      " 13  state        category      \n",
      " 14  type         category      \n",
      " 15  cluster      int8          \n",
      "dtypes: category(5), datetime64[ns](1), float32(1), int16(1), int32(2), int8(3), uint16(2), uint8(1)\n",
      "memory usage: 1.4 GB\n"
     ]
    }
   ],
   "source": [
    "train_merge_3.info()"
   ]
  },
  {
   "cell_type": "code",
   "execution_count": null,
   "metadata": {
    "colab": {
     "base_uri": "https://localhost:8080/",
     "height": 517
    },
    "id": "2tKrqJkskKwi",
    "outputId": "72fffbb0-b77b-4924-a87a-a82a385ff94f"
   },
   "outputs": [
    {
     "data": {
      "image/png": "[encoded data removed]",
      "text/plain": [
       "<Figure size 1080x360 with 1 Axes>"
      ]
     },
     "metadata": {
      "tags": []
     },
     "output_type": "display_data"
    }
   ],
   "source": [
    "plt.figure(figsize=(15,5))\n",
    "sns.countplot(data = items_df, x='family', hue='perishable')\n",
    "plt.title('Number of Perishable Items by Family')\n",
    "plt.xticks(rotation = 'vertical')\n",
    "plt.show()"
   ]
  },
  {
   "cell_type": "code",
   "execution_count": 41,
   "metadata": {
    "colab": {
     "base_uri": "https://localhost:8080/",
     "height": 495
    },
    "id": "Qma8TM0XMaOV",
    "outputId": "66be9ba8-f353-41a4-a5d9-fd79d310284a"
   },
   "outputs": [
    {
     "data": {
      "image/png": "[encoded data removed]",
      "text/plain": [
       "<Figure size 1080x360 with 1 Axes>"
      ]
     },
     "metadata": {
      "needs_background": "light",
      "tags": []
     },
     "output_type": "display_data"
    }
   ],
   "source": [
    "plt.figure(figsize=(15,5))\n",
    "family_unit_sales = train_merge_3.groupby(['family'], as_index= False).agg({'unit_sales':'sum'})\n",
    "sns.barplot(data=family_unit_sales, x=family_unit_sales.family, y='unit_sales')\n",
    "plt.title('Family wise Sales')\n",
    "plt.xlabel('Family Category')\n",
    "plt.ylabel('Sales')\n",
    "plt.xticks(rotation = 'vertical')\n",
    "plt.show()"
   ]
  },
  {
   "cell_type": "code",
   "execution_count": 47,
   "metadata": {
    "colab": {
     "base_uri": "https://localhost:8080/",
     "height": 350
    },
    "id": "XtQpwjV1Pxhp",
    "outputId": "68beec3b-57d9-43ba-8e7e-c266f04090da"
   },
   "outputs": [
    {
     "data": {
      "image/png": "[encoded data removed]",
      "text/plain": [
       "<Figure size 1080x360 with 1 Axes>"
      ]
     },
     "metadata": {
      "needs_background": "light",
      "tags": []
     },
     "output_type": "display_data"
    }
   ],
   "source": [
    "plt.figure(figsize=(15,5))\n",
    "perishable_unit_sales = train_merge_3.groupby(['perishable'], as_index= False).agg({'unit_sales':'sum'})\n",
    "sns.barplot(data=perishable_unit_sales, x=perishable_unit_sales.perishable, y='unit_sales')\n",
    "plt.title('Perishable Sales vs Non Perishable Sales')\n",
    "plt.xlabel('Perishable Status')\n",
    "plt.ylabel('Sales')\n",
    "#plt.xticks(rotation = 'vertical')\n",
    "plt.show()"
   ]
  },
  {
   "cell_type": "code",
   "execution_count": 42,
   "metadata": {
    "colab": {
     "base_uri": "https://localhost:8080/",
     "height": 497
    },
    "id": "Xw1nLDabOPtq",
    "outputId": "6043b489-cba9-4dbf-dc42-a8d3a512e9dd"
   },
   "outputs": [
    {
     "data": {
      "image/png": "[encoded data removed]",
      "text/plain": [
       "<Figure size 1080x360 with 1 Axes>"
      ]
     },
     "metadata": {
      "needs_background": "light",
      "tags": []
     },
     "output_type": "display_data"
    }
   ],
   "source": [
    "plt.figure(figsize=(15,5))\n",
    "sate_unit_sales = train_merge_3.groupby(['state'], as_index= False).agg({'unit_sales':'sum'})\n",
    "sns.barplot(data=sate_unit_sales, x=sate_unit_sales.state, y='unit_sales')\n",
    "plt.title('State wise Sales')\n",
    "plt.xlabel('State')\n",
    "plt.ylabel('Sales')\n",
    "plt.xticks(rotation = 'vertical')\n",
    "plt.show()"
   ]
  },
  {
   "cell_type": "code",
   "execution_count": 43,
   "metadata": {
    "colab": {
     "base_uri": "https://localhost:8080/",
     "height": 416
    },
    "id": "79rgxjNaOsZb",
    "outputId": "eebbb88e-809f-4da6-dde3-24728a94a424"
   },
   "outputs": [
    {
     "data": {
      "image/png": "[encoded data removed]",
      "text/plain": [
       "<Figure size 1080x360 with 1 Axes>"
      ]
     },
     "metadata": {
      "needs_background": "light",
      "tags": []
     },
     "output_type": "display_data"
    }
   ],
   "source": [
    "plt.figure(figsize=(15,5))\n",
    "city_unit_sales = train_merge_3.groupby(['city'], as_index= False).agg({'unit_sales':'sum'})\n",
    "sns.barplot(data=city_unit_sales, x=city_unit_sales.city, y='unit_sales')\n",
    "plt.title('City wise Sales')\n",
    "plt.xlabel('City')\n",
    "plt.ylabel('Sales')\n",
    "plt.xticks(rotation = 'vertical')\n",
    "plt.show()"
   ]
  },
  {
   "cell_type": "code",
   "execution_count": 44,
   "metadata": {
    "colab": {
     "base_uri": "https://localhost:8080/",
     "height": 347
    },
    "id": "RxUP3voyO_Wt",
    "outputId": "09c08fbf-e20a-4b5f-ef17-cf3a375ed7da"
   },
   "outputs": [
    {
     "data": {
      "image/png": "[encoded data removed]",
      "text/plain": [
       "<Figure size 1080x360 with 1 Axes>"
      ]
     },
     "metadata": {
      "needs_background": "light",
      "tags": []
     },
     "output_type": "display_data"
    }
   ],
   "source": [
    "plt.figure(figsize=(15,5))\n",
    "type_unit_sales = train_merge_3.groupby(['type'], as_index= False).agg({'unit_sales':'sum'})\n",
    "sns.barplot(data=type_unit_sales, x=type_unit_sales.type, y='unit_sales')\n",
    "plt.title('Store Type Sales')\n",
    "plt.xlabel('Type')\n",
    "plt.ylabel('Sales')\n",
    "plt.xticks(rotation = 'vertical')\n",
    "plt.show()"
   ]
  },
  {
   "cell_type": "code",
   "execution_count": 46,
   "metadata": {
    "colab": {
     "base_uri": "https://localhost:8080/",
     "height": 350
    },
    "id": "WmwtflhWPYFf",
    "outputId": "4f6e7c1d-67dc-4b88-86f4-2e05c277bebd"
   },
   "outputs": [
    {
     "data": {
      "image/png": "[encoded data removed]",
      "text/plain": [
       "<Figure size 1080x360 with 1 Axes>"
      ]
     },
     "metadata": {
      "needs_background": "light",
      "tags": []
     },
     "output_type": "display_data"
    }
   ],
   "source": [
    "plt.figure(figsize=(15,5))\n",
    "Cluster_unit_sales = train_merge_3.groupby(['cluster'], as_index= False).agg({'unit_sales':'sum'})\n",
    "sns.barplot(data=Cluster_unit_sales, x=Cluster_unit_sales.cluster, y='unit_sales')\n",
    "plt.title('Cluster Wise Sales')\n",
    "plt.xlabel('Cluster')\n",
    "plt.ylabel('Sales')\n",
    "#plt.xticks(rotation = 'vertical')\n",
    "plt.show()"
   ]
  },
  {
   "cell_type": "markdown",
   "metadata": {
    "id": "2Z_afAIEleW4"
   },
   "source": [
    "#### ***EDA on Holiday Data & Train Data***"
   ]
  },
  {
   "cell_type": "code",
   "execution_count": 7,
   "metadata": {
    "id": "bSCLfrY7UsOt"
   },
   "outputs": [],
   "source": [
    "holiday_train = pd.merge(train_df,holidays_events_df,on='date',how='left')"
   ]
  },
  {
   "cell_type": "code",
   "execution_count": 8,
   "metadata": {
    "colab": {
     "base_uri": "https://localhost:8080/"
    },
    "id": "nyUUKWNildjO",
    "outputId": "0341524e-6f2e-4d2b-eb9c-5735f8192e0d"
   },
   "outputs": [
    {
     "data": {
      "text/plain": [
       "(127970257, 11)"
      ]
     },
     "execution_count": 8,
     "metadata": {
      "tags": []
     },
     "output_type": "execute_result"
    }
   ],
   "source": [
    "holiday_train.shape"
   ]
  },
  {
   "cell_type": "code",
   "execution_count": 19,
   "metadata": {
    "colab": {
     "base_uri": "https://localhost:8080/"
    },
    "id": "QoUMuPBWuJhe",
    "outputId": "defd2fb9-7699-45ff-d2db-4227743aee6a"
   },
   "outputs": [
    {
     "name": "stdout",
     "output_type": "stream",
     "text": [
      "<class 'pandas.core.frame.DataFrame'>\n",
      "Int64Index: 127970257 entries, 0 to 127970256\n",
      "Data columns (total 11 columns):\n",
      " #   Column       Dtype   \n",
      "---  ------       -----   \n",
      " 0   id           int32   \n",
      " 1   date         object  \n",
      " 2   store_nbr    int8    \n",
      " 3   item_nbr     int32   \n",
      " 4   unit_sales   float32 \n",
      " 5   onpromotion  category\n",
      " 6   type         category\n",
      " 7   locale       category\n",
      " 8   locale_name  category\n",
      " 9   description  category\n",
      " 10  transferred  float16 \n",
      "dtypes: category(5), float16(1), float32(1), int32(2), int8(1), object(1)\n",
      "memory usage: 4.3+ GB\n"
     ]
    }
   ],
   "source": [
    "holiday_train.info()"
   ]
  },
  {
   "cell_type": "code",
   "execution_count": 9,
   "metadata": {
    "colab": {
     "base_uri": "https://localhost:8080/",
     "height": 191
    },
    "id": "Fslmd9jMmDNr",
    "outputId": "6744da3e-1a42-451b-e0b6-32f72707750f"
   },
   "outputs": [
    {
     "data": {
      "text/html": [
       "<div>\n",
       "<style scoped>\n",
       "    .dataframe tbody tr th:only-of-type {\n",
       "        vertical-align: middle;\n",
       "    }\n",
       "\n",
       "    .dataframe tbody tr th {\n",
       "        vertical-align: top;\n",
       "    }\n",
       "\n",
       "    .dataframe thead th {\n",
       "        text-align: right;\n",
       "    }\n",
       "</style>\n",
       "<table border=\"1\" class=\"dataframe\">\n",
       "  <thead>\n",
       "    <tr style=\"text-align: right;\">\n",
       "      <th></th>\n",
       "      <th>id</th>\n",
       "      <th>date</th>\n",
       "      <th>store_nbr</th>\n",
       "      <th>item_nbr</th>\n",
       "      <th>unit_sales</th>\n",
       "      <th>onpromotion</th>\n",
       "      <th>type</th>\n",
       "      <th>locale</th>\n",
       "      <th>locale_name</th>\n",
       "      <th>description</th>\n",
       "      <th>transferred</th>\n",
       "    </tr>\n",
       "  </thead>\n",
       "  <tbody>\n",
       "    <tr>\n",
       "      <th>0</th>\n",
       "      <td>0</td>\n",
       "      <td>2013-01-01</td>\n",
       "      <td>25</td>\n",
       "      <td>103665</td>\n",
       "      <td>7.0</td>\n",
       "      <td>NaN</td>\n",
       "      <td>Holiday</td>\n",
       "      <td>National</td>\n",
       "      <td>Ecuador</td>\n",
       "      <td>Primer dia del ano</td>\n",
       "      <td>0.0</td>\n",
       "    </tr>\n",
       "    <tr>\n",
       "      <th>1</th>\n",
       "      <td>1</td>\n",
       "      <td>2013-01-01</td>\n",
       "      <td>25</td>\n",
       "      <td>105574</td>\n",
       "      <td>1.0</td>\n",
       "      <td>NaN</td>\n",
       "      <td>Holiday</td>\n",
       "      <td>National</td>\n",
       "      <td>Ecuador</td>\n",
       "      <td>Primer dia del ano</td>\n",
       "      <td>0.0</td>\n",
       "    </tr>\n",
       "    <tr>\n",
       "      <th>2</th>\n",
       "      <td>2</td>\n",
       "      <td>2013-01-01</td>\n",
       "      <td>25</td>\n",
       "      <td>105575</td>\n",
       "      <td>2.0</td>\n",
       "      <td>NaN</td>\n",
       "      <td>Holiday</td>\n",
       "      <td>National</td>\n",
       "      <td>Ecuador</td>\n",
       "      <td>Primer dia del ano</td>\n",
       "      <td>0.0</td>\n",
       "    </tr>\n",
       "    <tr>\n",
       "      <th>3</th>\n",
       "      <td>3</td>\n",
       "      <td>2013-01-01</td>\n",
       "      <td>25</td>\n",
       "      <td>108079</td>\n",
       "      <td>1.0</td>\n",
       "      <td>NaN</td>\n",
       "      <td>Holiday</td>\n",
       "      <td>National</td>\n",
       "      <td>Ecuador</td>\n",
       "      <td>Primer dia del ano</td>\n",
       "      <td>0.0</td>\n",
       "    </tr>\n",
       "    <tr>\n",
       "      <th>4</th>\n",
       "      <td>4</td>\n",
       "      <td>2013-01-01</td>\n",
       "      <td>25</td>\n",
       "      <td>108701</td>\n",
       "      <td>1.0</td>\n",
       "      <td>NaN</td>\n",
       "      <td>Holiday</td>\n",
       "      <td>National</td>\n",
       "      <td>Ecuador</td>\n",
       "      <td>Primer dia del ano</td>\n",
       "      <td>0.0</td>\n",
       "    </tr>\n",
       "  </tbody>\n",
       "</table>\n",
       "</div>"
      ],
      "text/plain": [
       "   id        date  store_nbr  ...  locale_name         description transferred\n",
       "0   0  2013-01-01         25  ...      Ecuador  Primer dia del ano         0.0\n",
       "1   1  2013-01-01         25  ...      Ecuador  Primer dia del ano         0.0\n",
       "2   2  2013-01-01         25  ...      Ecuador  Primer dia del ano         0.0\n",
       "3   3  2013-01-01         25  ...      Ecuador  Primer dia del ano         0.0\n",
       "4   4  2013-01-01         25  ...      Ecuador  Primer dia del ano         0.0\n",
       "\n",
       "[5 rows x 11 columns]"
      ]
     },
     "execution_count": 9,
     "metadata": {
      "tags": []
     },
     "output_type": "execute_result"
    }
   ],
   "source": [
    "holiday_train.head()"
   ]
  },
  {
   "cell_type": "code",
   "execution_count": 10,
   "metadata": {
    "colab": {
     "base_uri": "https://localhost:8080/"
    },
    "id": "kYzlp9K1mHlV",
    "outputId": "3d29f6a7-6388-48ea-80b6-6866245f0419"
   },
   "outputs": [
    {
     "data": {
      "text/plain": [
       "id                     0\n",
       "date                   0\n",
       "store_nbr              0\n",
       "item_nbr               0\n",
       "unit_sales             0\n",
       "onpromotion     21887677\n",
       "type           106142049\n",
       "locale         106142049\n",
       "locale_name    106142049\n",
       "description    106142049\n",
       "transferred    106142049\n",
       "dtype: int64"
      ]
     },
     "execution_count": 10,
     "metadata": {
      "tags": []
     },
     "output_type": "execute_result"
    }
   ],
   "source": [
    "holiday_train.isnull().sum()"
   ]
  },
  {
   "cell_type": "code",
   "execution_count": 12,
   "metadata": {
    "colab": {
     "base_uri": "https://localhost:8080/",
     "height": 350
    },
    "id": "H1juCU-qm072",
    "outputId": "14161d80-4549-429f-9e6f-8ce6eae22270"
   },
   "outputs": [
    {
     "data": {
      "image/png": "[encoded data removed]",
      "text/plain": [
       "<Figure size 1080x360 with 1 Axes>"
      ]
     },
     "metadata": {
      "needs_background": "light",
      "tags": []
     },
     "output_type": "display_data"
    }
   ],
   "source": [
    "plt.figure(figsize=(15,5))\n",
    "type_unit_sales = holiday_train.groupby(['type'], as_index= False).agg({'unit_sales':'sum'})\n",
    "sns.barplot(data=type_unit_sales, x=type_unit_sales.type, y='unit_sales')\n",
    "plt.title('Holiday Type Sales')\n",
    "plt.xlabel('Holiday Type')\n",
    "plt.ylabel('Sales')\n",
    "#plt.xticks(rotation = 'vertical')\n",
    "plt.show()"
   ]
  },
  {
   "cell_type": "code",
   "execution_count": 13,
   "metadata": {
    "colab": {
     "base_uri": "https://localhost:8080/",
     "height": 350
    },
    "id": "B3EAbGqfrJUI",
    "outputId": "806e04d1-fedf-45f1-b310-1516889a85cc"
   },
   "outputs": [
    {
     "data": {
      "image/png": "[encoded data removed]",
      "text/plain": [
       "<Figure size 1080x360 with 1 Axes>"
      ]
     },
     "metadata": {
      "needs_background": "light",
      "tags": []
     },
     "output_type": "display_data"
    }
   ],
   "source": [
    "plt.figure(figsize=(15,5))\n",
    "locale_unit_sales = holiday_train.groupby(['locale'], as_index= False).agg({'unit_sales':'sum'})\n",
    "sns.barplot(data=locale_unit_sales, x=locale_unit_sales.locale, y='unit_sales')\n",
    "plt.title('Locale Type Sales')\n",
    "plt.xlabel('Locale Type')\n",
    "plt.ylabel('Sales')\n",
    "#plt.xticks(rotation = 'vertical')\n",
    "plt.show()"
   ]
  },
  {
   "cell_type": "code",
   "execution_count": 15,
   "metadata": {
    "colab": {
     "base_uri": "https://localhost:8080/",
     "height": 497
    },
    "id": "_vecyjlxnwDL",
    "outputId": "cf9924d6-a183-42ca-d4bd-00ea51e01b0e"
   },
   "outputs": [
    {
     "data": {
      "image/png": "[encoded data removed]",
      "text/plain": [
       "<Figure size 1080x360 with 1 Axes>"
      ]
     },
     "metadata": {
      "needs_background": "light",
      "tags": []
     },
     "output_type": "display_data"
    }
   ],
   "source": [
    "plt.figure(figsize=(15,5))\n",
    "locale_unit_sales = holiday_train.groupby(['locale_name'], as_index= False).agg({'unit_sales':'sum'})\n",
    "sns.barplot(data=locale_unit_sales, x=locale_unit_sales.locale_name, y='unit_sales')\n",
    "plt.title('Locale_name Sales')\n",
    "plt.xlabel('locale name')\n",
    "plt.ylabel('Sales')\n",
    "plt.xticks(rotation = 'vertical')\n",
    "plt.show()"
   ]
  },
  {
   "cell_type": "code",
   "execution_count": 23,
   "metadata": {
    "colab": {
     "base_uri": "https://localhost:8080/",
     "height": 607
    },
    "id": "-kmDpC8AQ8M6",
    "outputId": "28401b0f-eb92-4da2-a2f3-6f71a9d4e0ea"
   },
   "outputs": [
    {
     "data": {
      "image/png": "[encoded data removed]",
      "text/plain": [
       "<Figure size 1080x720 with 2 Axes>"
      ]
     },
     "metadata": {
      "needs_background": "light",
      "tags": []
     },
     "output_type": "display_data"
    }
   ],
   "source": [
    "#Correlation Matrix\n",
    "plt.figure(figsize=(15,10))\n",
    "sns.heatmap(holiday_train.corr(), annot=True, fmt='.1g', vmin=-1, vmax=1, center=0, square=True, cmap='tab20b')\n",
    "plt.title('Correlation Matrix')\n",
    "plt.show()"
   ]
  },
  {
   "cell_type": "markdown",
   "metadata": {
    "id": "0tahHiSTyWST"
   },
   "source": [
    "### ***Observations from Holiday Dataset***\n",
    "\n",
    "1. Events happens at three different levels namely Local, Regional & National. National events are more compared to others followed by Local events \n",
    "\n",
    "2. Ecuador has the highest sales\n",
    "\n",
    "3. Event Holiday sales are the highest"
   ]
  },
  {
   "cell_type": "markdown",
   "metadata": {
    "id": "hwGMfXG2tMEO"
   },
   "source": [
    "#### ***EDA on Oil Data***"
   ]
  },
  {
   "cell_type": "code",
   "execution_count": null,
   "metadata": {
    "colab": {
     "base_uri": "https://localhost:8080/",
     "height": 355
    },
    "id": "9hCrQoa9tqnI",
    "outputId": "e37c47c4-b7b7-46a9-b49c-3de249ad730e"
   },
   "outputs": [
    {
     "data": {
      "image/png": "[encoded data removed]",
      "text/plain": [
       "<Figure size 1080x360 with 1 Axes>"
      ]
     },
     "metadata": {
      "tags": []
     },
     "output_type": "display_data"
    }
   ],
   "source": [
    "fig,ax=plt.subplots(figsize=(15, 5))\n",
    "#ax.set(yscale='log')\n",
    "sns.histplot(oil_df['dcoilwtico'].values, bins=50)\n",
    "plt.xlabel('Oil Price')\n",
    "plt.ylabel('Frequency')\n",
    "plt.title('Oil Price Distribution')\n",
    "plt.show()"
   ]
  },
  {
   "cell_type": "code",
   "execution_count": 6,
   "metadata": {
    "id": "fqKmdrLM2bCh"
   },
   "outputs": [],
   "source": [
    "oil_train = pd.merge(train_df,oil_df,on='date',how='left')"
   ]
  },
  {
   "cell_type": "code",
   "execution_count": 25,
   "metadata": {
    "colab": {
     "base_uri": "https://localhost:8080/"
    },
    "id": "pZw23Qjg2pU8",
    "outputId": "1e455f92-7fdc-465d-afaa-10ce2213bcd0"
   },
   "outputs": [
    {
     "data": {
      "text/plain": [
       "(125497040, 7)"
      ]
     },
     "execution_count": 25,
     "metadata": {
      "tags": []
     },
     "output_type": "execute_result"
    }
   ],
   "source": [
    "oil_train.shape"
   ]
  },
  {
   "cell_type": "code",
   "execution_count": 7,
   "metadata": {
    "colab": {
     "base_uri": "https://localhost:8080/",
     "height": 607
    },
    "id": "5yh9yQrb2r5Y",
    "outputId": "f353a9b2-ecff-400f-a483-ff802d702a29"
   },
   "outputs": [
    {
     "data": {
      "image/png": "[encoded data removed]",
      "text/plain": [
       "<Figure size 1080x720 with 2 Axes>"
      ]
     },
     "metadata": {
      "needs_background": "light",
      "tags": []
     },
     "output_type": "display_data"
    }
   ],
   "source": [
    "plt.figure(figsize=(15,10))\n",
    "sns.heatmap(oil_train.corr(), annot=True, fmt='.1g', vmin=-1, vmax=1, center=0, square=True, cmap='tab20b')\n",
    "plt.title('Correlation Matrix')\n",
    "plt.show()"
   ]
  },
  {
   "cell_type": "markdown",
   "metadata": {
    "id": "bzzkerEc0yOp"
   },
   "source": [
    "### ***Observations from Oil Dataset***\n",
    "\n",
    "1. Oil Price is bi-nomially distributed where one values ranges from 40-60 & other ranges from 90-110\n",
    "\n",
    "2. There is no strong correalation between Unit sales & Oil Price"
   ]
  },
  {
   "cell_type": "markdown",
   "metadata": {
    "id": "4FpznHuh2mqB"
   },
   "source": [
    "### ***Overall Observations***\n",
    "\n",
    "1. 17% of onpromotion values are NULL\n",
    "\n",
    "2. Unit Sales of items Non promotion are high\n",
    "\n",
    "3. Events happens at three different levels namely Local, Regional & National. National events are more compared to others followed by Local events \n",
    "\n",
    "4. Ecuador has the highest sales\n",
    "\n",
    "5. Event Holiday sales are the highest\n",
    "\n",
    "6. Top 3 Item Family sold are **Poultry**, **Produce, Grocery I**\n",
    "\n",
    "8. From Heat Map we can observe that Oil Price are negatively correlated & othere independant variables are not strongly correaled \n",
    "\n",
    "9. Oil Price is bi-nomially distributed where one values ranges from 40-60 & other ranges from 90-110\n",
    "\n",
    "10. There is no strong correalation between Unit sales & Oil Price\n",
    "\n",
    "11. 2016 has the highest unit sales and 2017 is the lowest\n",
    "\n",
    "12. 2017 has the lowest sales as data is avaliable until August\n",
    "\n",
    "13. July & December has the highest unit sales compared to other months \n",
    "\n",
    "14. Saturday and Sunday has highest unit sales compared to other days"
   ]
  },
  {
   "cell_type": "markdown",
   "metadata": {
    "id": "PDRk6frojjqN"
   },
   "source": [
    "Featuares like Year, Month, Day of week can be added to the model"
   ]
  },
  {
   "cell_type": "markdown",
   "metadata": {
    "id": "gn-llYQBxYBn"
   },
   "source": [
    "#### ***Correlation*** \n",
    "\n",
    "1. Betweeen 2 Categorical Variable \n",
    "\n",
    "Spearman’s Correlation\n",
    "\n",
    "Pearson's correlation coefficient = covariance(X, Y) / (stdv(X) * stdv(Y))\n",
    "\n",
    "\n",
    "2. Betweeen 1 Categorical Variable & 1 Continous Variable\n",
    "\n",
    "One-way ANOVA"
   ]
  }
 ],
 "metadata": {
  "accelerator": "GPU",
  "colab": {
   "collapsed_sections": [],
   "machine_shape": "hm",
   "name": "CaseStudy1.ipynb",
   "provenance": []
  },
  "kernelspec": {
   "display_name": "Python 3",
   "language": "python",
   "name": "python3"
  },
  "language_info": {
   "codemirror_mode": {
    "name": "ipython",
    "version": 3
   },
   "file_extension": ".py",
   "mimetype": "text/x-python",
   "name": "python",
   "nbconvert_exporter": "python",
   "pygments_lexer": "ipython3",
   "version": "3.7.6"
  }
 },
 "nbformat": 4,
 "nbformat_minor": 1
}
