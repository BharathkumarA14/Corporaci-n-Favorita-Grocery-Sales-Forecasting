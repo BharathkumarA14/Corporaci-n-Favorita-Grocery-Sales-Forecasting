{
 "cells": [
  {
   "cell_type": "code",
   "execution_count": 1,
   "metadata": {
    "colab": {
     "base_uri": "https://localhost:8080/"
    },
    "id": "XJI-VXpUyqu7",
    "outputId": "789efb4e-cb1b-4694-b0ea-3818cba1caa2"
   },
   "outputs": [
    {
     "name": "stdout",
     "output_type": "stream",
     "text": [
      "\u001b[K     |████████████████████████████████| 8.2MB 12.8MB/s \n",
      "\u001b[K     |████████████████████████████████| 112kB 66.5MB/s \n",
      "\u001b[K     |████████████████████████████████| 4.2MB 57.1MB/s \n",
      "\u001b[K     |████████████████████████████████| 174kB 78.0MB/s \n",
      "\u001b[K     |████████████████████████████████| 81kB 8.6MB/s \n",
      "\u001b[K     |████████████████████████████████| 92kB 9.2MB/s \n",
      "\u001b[K     |████████████████████████████████| 122kB 72.1MB/s \n",
      "\u001b[K     |████████████████████████████████| 71kB 6.8MB/s \n",
      "\u001b[?25h  Building wheel for blinker (setup.py) ... \u001b[?25l\u001b[?25hdone\n",
      "\u001b[31mERROR: google-colab 1.0.0 has requirement ipykernel~=4.10, but you'll have ipykernel 5.5.5 which is incompatible.\u001b[0m\n",
      "\u001b[K     |████████████████████████████████| 747kB 16.4MB/s \n",
      "\u001b[?25h  Building wheel for pyngrok (setup.py) ... \u001b[?25l\u001b[?25hdone\n"
     ]
    }
   ],
   "source": [
    "!pip -q install streamlit\n",
    "!pip -q install pyngrok"
   ]
  },
  {
   "cell_type": "code",
   "execution_count": 2,
   "metadata": {
    "colab": {
     "base_uri": "https://localhost:8080/"
    },
    "id": "Toc4lqQIAomT",
    "outputId": "27692001-b4d8-4f91-f443-f222fa1989b0"
   },
   "outputs": [
    {
     "name": "stdout",
     "output_type": "stream",
     "text": [
      "\u001b[?25l\r",
      "\u001b[K     |████                            | 10kB 19.1MB/s eta 0:00:01\r",
      "\u001b[K     |████████▏                       | 20kB 25.7MB/s eta 0:00:01\r",
      "\u001b[K     |████████████▏                   | 30kB 31.3MB/s eta 0:00:01\r",
      "\u001b[K     |████████████████▎               | 40kB 35.9MB/s eta 0:00:01\r",
      "\u001b[K     |████████████████████▎           | 51kB 19.2MB/s eta 0:00:01\r",
      "\u001b[K     |████████████████████████▍       | 61kB 13.8MB/s eta 0:00:01\r",
      "\u001b[K     |████████████████████████████▍   | 71kB 14.6MB/s eta 0:00:01\r",
      "\u001b[K     |████████████████████████████████| 81kB 4.9MB/s \n",
      "\u001b[?25h"
     ]
    }
   ],
   "source": [
    "!pip -q install category_encoders "
   ]
  },
  {
   "cell_type": "code",
   "execution_count": 3,
   "metadata": {
    "colab": {
     "base_uri": "https://localhost:8080/"
    },
    "id": "SrMJLcWNtNTE",
    "outputId": "e44ea873-0341-4c78-cb09-2f1e68fa829e"
   },
   "outputs": [
    {
     "name": "stderr",
     "output_type": "stream",
     "text": [
      "/usr/local/lib/python3.7/dist-packages/statsmodels/tools/_testing.py:19: FutureWarning: pandas.util.testing is deprecated. Use the functions in the public API at pandas.testing instead.\n",
      "  import pandas.util.testing as tm\n"
     ]
    }
   ],
   "source": [
    "from pyngrok import ngrok\n",
    "from sklearn.preprocessing import LabelEncoder\n",
    "import pickle\n",
    "import pandas as pd\n",
    "import numpy as np\n",
    "import category_encoders as ce"
   ]
  },
  {
   "cell_type": "code",
   "execution_count": 4,
   "metadata": {
    "colab": {
     "base_uri": "https://localhost:8080/"
    },
    "id": "p4QhFp1vtfII",
    "outputId": "f6f93900-ddc1-47b3-8196-fcf300bab75e"
   },
   "outputs": [
    {
     "name": "stdout",
     "output_type": "stream",
     "text": [
      "Writing app.py\n"
     ]
    }
   ],
   "source": [
    "%%writefile app.py\n",
    "\n",
    "import pandas as pd\n",
    "import numpy as np\n",
    "import pickle\n",
    "import re\n",
    "import streamlit as st\n",
    "from pyngrok import ngrok\n",
    "from sklearn.externals import joblib\n",
    "from sklearn.preprocessing import LabelEncoder\n",
    "import lightgbm as lgb\n",
    "from lightgbm import LGBMRegressor\n",
    "import category_encoders as ce\n",
    "\n",
    "\n",
    "uploaded_file = st.file_uploader(\"Choose a file\")\n",
    "if uploaded_file is not None:\n",
    "  data_point = pd.read_csv(uploaded_file)\n",
    "  with open('/content/drive/MyDrive/CaseStudy1/x_train.pkl', 'rb') as fp:\n",
    "    x_train = pickle.load(fp)\n",
    "  gbdt_model = pickle.load(open('/content/drive/MyDrive/CaseStudy1/gbdt_clf.pkl','rb'))\n",
    "  #Replacing True or False with 0,1 values in onpromotion and replacing the NAN values with 0(False) in test data\n",
    "  data_point['onpromotion'] = data_point['onpromotion'].fillna(0)\n",
    "  data_point['onpromotion'] = data_point['onpromotion'].astype(int)\n",
    "  #Encoding all the category variables\n",
    "  # specify categorical columns\n",
    "  cat_cols = ['city', 'state', 'type','family']\n",
    "  le = ce.OrdinalEncoder(cols=cat_cols,\n",
    "                       return_df=True,\n",
    "                       handle_unknown='impute') #Handling Unseen labels in test data\n",
    "  x_train = le.fit_transform(x_train)\n",
    "  data_point = le.transform(data_point)\n",
    "  unit_sales = gbdt_model.predict(data_point)\n",
    "  st.write(unit_sales)"
   ]
  },
  {
   "cell_type": "code",
   "execution_count": 5,
   "metadata": {
    "colab": {
     "base_uri": "https://localhost:8080/"
    },
    "id": "ahYz8iXc1Aha",
    "outputId": "4842a599-eaf2-46ea-919d-0c34f395aa9f"
   },
   "outputs": [
    {
     "name": "stdout",
     "output_type": "stream",
     "text": [
      "Authtoken saved to configuration file: /root/.ngrok2/ngrok.yml\n"
     ]
    }
   ],
   "source": [
    "!ngrok authtoken 1s9EWYEkYGU9J6chwq2Z0Hucw5R_2iBbA53YyhmegQY3b67nm"
   ]
  },
  {
   "cell_type": "code",
   "execution_count": 6,
   "metadata": {
    "colab": {
     "base_uri": "https://localhost:8080/"
    },
    "id": "xQFa68Fu1EGF",
    "outputId": "5e58dde8-3c0c-43c4-c600-f3ee3b501b85"
   },
   "outputs": [
    {
     "name": "stdout",
     "output_type": "stream",
     "text": [
      "NgrokTunnel: \"http://76647c54033c.ngrok.io\" -> \"http://localhost:80\"\n",
      "2021-05-23 06:44:13.444 An update to the [server] config option section was detected. To have these changes be reflected, please restart streamlit.\n",
      "/usr/local/lib/python3.7/dist-packages/sklearn/externals/joblib/__init__.py:15: FutureWarning: sklearn.externals.joblib is deprecated in 0.21 and will be removed in 0.23. Please import this functionality directly from joblib, which can be installed with: pip install joblib. If this warning is raised when loading pickled models, you may need to re-serialize those models with scikit-learn 0.21+.\n",
      "  warnings.warn(msg, category=FutureWarning)\n",
      "/usr/local/lib/python3.7/dist-packages/statsmodels/tools/_testing.py:19: FutureWarning: pandas.util.testing is deprecated. Use the functions in the public API at pandas.testing instead.\n",
      "  import pandas.util.testing as tm\n",
      "/usr/local/lib/python3.7/dist-packages/category_encoders/utils.py:21: FutureWarning: is_categorical is deprecated and will be removed in a future version.  Use is_categorical_dtype instead\n",
      "  elif pd.api.types.is_categorical(cols):\n"
     ]
    }
   ],
   "source": [
    "public_url = ngrok.connect(port='80')\n",
    "print (public_url)\n",
    "!streamlit run --server.port 80 app.py >/dev/null"
   ]
  },
  {
   "cell_type": "markdown",
   "metadata": {
    "id": "xEf5Iq8JBUqt"
   },
   "source": [
    "## ***Model Deployment***\n",
    "\n",
    "##### Click [here](https://youtu.be/SYuYhiVm5W0)"
   ]
  }
 ],
 "metadata": {
  "colab": {
   "collapsed_sections": [],
   "machine_shape": "hm",
   "name": "Model_Deployment.ipynb",
   "provenance": []
  },
  "kernelspec": {
   "display_name": "Python 3",
   "language": "python",
   "name": "python3"
  },
  "language_info": {
   "codemirror_mode": {
    "name": "ipython",
    "version": 3
   },
   "file_extension": ".py",
   "mimetype": "text/x-python",
   "name": "python",
   "nbconvert_exporter": "python",
   "pygments_lexer": "ipython3",
   "version": "3.7.6"
  }
 },
 "nbformat": 4,
 "nbformat_minor": 1
}
